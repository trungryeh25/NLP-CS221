{
  "cells": [
    {
      "attachments": {},
      "cell_type": "markdown",
      "metadata": {
        "id": "AqMeFBnmIFLu"
      },
      "source": [
        "# *Project -* **Topic Classification**\n",
        "*Subject -* Natural Language Processing \n",
        "\n",
        "*Member :*\n",
        "\n",
        "Phat Le Vo Tien     - 19521993\n",
        "\n",
        "Trung Nguyen Thanh  - 19522432"
      ]
    },
    {
      "cell_type": "markdown",
      "metadata": {
        "id": "hR8VMqpQRQ1a"
      },
      "source": [
        "## Connect Drive"
      ]
    },
    {
      "cell_type": "code",
      "execution_count": null,
      "metadata": {
        "colab": {
          "base_uri": "https://localhost:8080/"
        },
        "id": "e_7wZEkRAyTl",
        "outputId": "e15a54e7-af84-4260-ccf5-63088f412a4b"
      },
      "outputs": [
        {
          "name": "stdout",
          "output_type": "stream",
          "text": [
            "Drive already mounted at /content/drive; to attempt to forcibly remount, call drive.mount(\"/content/drive\", force_remount=True).\n"
          ]
        }
      ],
      "source": [
        "from google.colab import drive\n",
        "drive.mount('/content/drive')"
      ]
    },
    {
      "cell_type": "markdown",
      "metadata": {
        "id": "39mOrR8gdDkA"
      },
      "source": [
        "## Lib"
      ]
    },
    {
      "cell_type": "code",
      "execution_count": null,
      "metadata": {
        "id": "iv7hJANwdIQn"
      },
      "outputs": [],
      "source": [
        "import pandas as pd\n",
        "import numpy as np\n",
        "#%matplotlib ipympl\n",
        "\n",
        "import matplotlib.pyplot as plt\n",
        "\n",
        "from sklearn.feature_extraction.text import TfidfVectorizer\n",
        "from sklearn.feature_extraction.text import TfidfTransformer\n",
        "from sklearn.feature_extraction.text import CountVectorizer\n",
        "from sklearn import metrics\n",
        "import seaborn as sns\n",
        "from sklearn.metrics import confusion_matrix\n",
        "from sklearn.pipeline import Pipeline\n",
        "from sklearn.svm import LinearSVC"
      ]
    },
    {
      "cell_type": "code",
      "execution_count": null,
      "metadata": {
        "colab": {
          "base_uri": "https://localhost:8080/"
        },
        "id": "Vo9qwsMHfWSn",
        "outputId": "2599bb72-5d72-4f18-c3a5-a42b8e476255"
      },
      "outputs": [
        {
          "name": "stderr",
          "output_type": "stream",
          "text": [
            "[nltk_data] Downloading package punkt to /root/nltk_data...\n",
            "[nltk_data]   Package punkt is already up-to-date!\n",
            "[nltk_data] Downloading package wordnet to /root/nltk_data...\n",
            "[nltk_data]   Package wordnet is already up-to-date!\n",
            "[nltk_data] Downloading package omw-1.4 to /root/nltk_data...\n",
            "[nltk_data]   Package omw-1.4 is already up-to-date!\n",
            "[nltk_data] Downloading package stopwords to /root/nltk_data...\n",
            "[nltk_data]   Package stopwords is already up-to-date!\n"
          ]
        },
        {
          "data": {
            "text/plain": [
              "True"
            ]
          },
          "execution_count": 65,
          "metadata": {},
          "output_type": "execute_result"
        }
      ],
      "source": [
        "import nltk\n",
        "nltk.download('punkt')\n",
        "from nltk.stem import PorterStemmer\n",
        "from nltk.tokenize import sent_tokenize, word_tokenize\n",
        "nltk.download('wordnet')\n",
        "from nltk.stem import WordNetLemmatizer\n",
        "nltk.download('omw-1.4')\n",
        "nltk.download('stopwords')"
      ]
    },
    {
      "cell_type": "markdown",
      "metadata": {
        "id": "bYzE_nALHkO7"
      },
      "source": [
        "## Count words"
      ]
    },
    {
      "cell_type": "code",
      "execution_count": null,
      "metadata": {
        "id": "GNPi_yziDuMj"
      },
      "outputs": [],
      "source": [
        "import string\n",
        "import re\n",
        "import joblib\n"
      ]
    },
    {
      "cell_type": "code",
      "execution_count": null,
      "metadata": {
        "id": "NoeM0l-3CchW"
      },
      "outputs": [],
      "source": [
        "str_ = \"Jiri missed a routine backhand in the ninth game and faced a break point. He saved it with a service winner and missed a game point that would cost him dearly. The Czech netted a forehand to face the second break point, and the American converted it after a beautiful rally that pushed him 5-4 in front. Fritz served for the victory in game ten and sealed the deal with an ace to earn the first victory of the new season.\""
      ]
    },
    {
      "cell_type": "code",
      "execution_count": null,
      "metadata": {
        "id": "gIVAzrLZGDMH"
      },
      "outputs": [],
      "source": [
        "def process_text(text):\n",
        "    text = text.lower()\n",
        "    text = re.sub(\n",
        "        f\"[{re.escape(string.punctuation)}]\", \" \", text\n",
        "    )\n",
        "    text = \" \".join(text.split())\n",
        "    return text"
      ]
    },
    {
      "cell_type": "code",
      "execution_count": null,
      "metadata": {
        "id": "phsMXMbXGEZq"
      },
      "outputs": [],
      "source": [
        "str1 = process_text(str_)\n",
        "#str1"
      ]
    },
    {
      "cell_type": "code",
      "execution_count": null,
      "metadata": {
        "id": "TWf9kuXvHE65"
      },
      "outputs": [],
      "source": [
        "str1 = str1.split()\n",
        "#str1"
      ]
    },
    {
      "cell_type": "code",
      "execution_count": null,
      "metadata": {
        "colab": {
          "base_uri": "https://localhost:8080/"
        },
        "id": "-T0acaRgHQRj",
        "outputId": "551923c5-cd35-40d4-c03d-c724a7156848"
      },
      "outputs": [
        {
          "data": {
            "text/plain": [
              "82"
            ]
          },
          "execution_count": 6,
          "metadata": {},
          "output_type": "execute_result"
        }
      ],
      "source": [
        "c=0\n",
        "for i in str1:\n",
        "  c+=1;\n",
        "c"
      ]
    },
    {
      "cell_type": "markdown",
      "metadata": {
        "id": "BwEavl03Yend"
      },
      "source": [
        "## Import data"
      ]
    },
    {
      "cell_type": "code",
      "execution_count": null,
      "metadata": {
        "id": "dpxcHx6sZSjH"
      },
      "outputs": [],
      "source": [
        "df_train = pd.read_csv(\"/content/train.csv\")\n",
        "df_train = df_train[[\"Doc\", \"byHand\", \"Categories\"]]\n",
        "df_train = df_train.dropna()\n",
        "#df_train\n",
        "\n",
        "df_test = pd.read_csv(\"/content/test.csv\")\n",
        "df_test = df_test[[\"Doc\", \"byHand\", \"Categories\"]]\n",
        "df_test = df_test.dropna()\n"
      ]
    },
    {
      "cell_type": "code",
      "execution_count": null,
      "metadata": {
        "id": "FgXfnizyUUlN"
      },
      "outputs": [],
      "source": [
        "#X_train"
      ]
    },
    {
      "cell_type": "markdown",
      "metadata": {
        "id": "4RMvXRtJo_SJ"
      },
      "source": [
        "## Visualize Data"
      ]
    },
    {
      "cell_type": "code",
      "execution_count": null,
      "metadata": {
        "colab": {
          "base_uri": "https://localhost:8080/"
        },
        "id": "EZxOsYL9pBi9",
        "outputId": "c05081df-96fd-4d2d-fbcc-a09604d6c00b"
      },
      "outputs": [
        {
          "name": "stdout",
          "output_type": "stream",
          "text": [
            "[('Basketball', 3), ('Football', 3), ('Golf', 3), ('Tennis', 3)]\n"
          ]
        }
      ],
      "source": [
        "\"\"\"\n",
        "targets_test, frequency_test = np.unique(df_train.Categories, return_counts=True)\n",
        "targets_test_str = ['Basketball', 'Football', 'Golf', 'Tennis']\n",
        "print(list(zip(targets_test_str, frequency_test)))\n",
        "\"\"\"\n",
        "\n",
        "targets_test, frequency_test = np.unique(df_test.Categories, return_counts=True)\n",
        "targets_test_str = ['Basketball', 'Football', 'Golf', 'Tennis']\n",
        "print(list(zip(targets_test_str, frequency_test)))\n",
        "\n",
        "#\"\"\"\n"
      ]
    },
    {
      "cell_type": "code",
      "execution_count": null,
      "metadata": {
        "colab": {
          "base_uri": "https://localhost:8080/",
          "height": 431
        },
        "id": "GZQxJHXQphbr",
        "outputId": "4a81b700-bc94-4ea9-c501-169c1cf849b2"
      },
      "outputs": [
        {
          "data": {
            "image/png": "[encoded data removed]",
            "text/plain": [
              "<Figure size 800x400 with 1 Axes>"
            ]
          },
          "metadata": {},
          "output_type": "display_data"
        }
      ],
      "source": [
        "fig=plt.figure(figsize=(10, 5), dpi= 80, facecolor='w', edgecolor='k')\n",
        "plt.bar(targets_test_str,frequency_test)\n",
        "plt.xticks(rotation=90)\n",
        "plt.title('Class distribution of Data')\n",
        "plt.xlabel('Categories')\n",
        "plt.ylabel('Frequency')\n",
        "plt.show()"
      ]
    },
    {
      "cell_type": "code",
      "execution_count": null,
      "metadata": {
        "colab": {
          "base_uri": "https://localhost:8080/",
          "height": 1274
        },
        "id": "Jdrqm2Byn4MT",
        "outputId": "5ceb623a-3182-4fde-aa97-41e88dfb5c4d"
      },
      "outputs": [
        {
          "data": {
            "text/html": [
              "\n",
              "  <div id=\"df-808993fd-b0c1-447a-8fdf-4ed492673d1c\">\n",
              "    <div class=\"colab-df-container\">\n",
              "      <div>\n",
              "<style scoped>\n",
              "    .dataframe tbody tr th:only-of-type {\n",
              "        vertical-align: middle;\n",
              "    }\n",
              "\n",
              "    .dataframe tbody tr th {\n",
              "        vertical-align: top;\n",
              "    }\n",
              "\n",
              "    .dataframe thead th {\n",
              "        text-align: right;\n",
              "    }\n",
              "</style>\n",
              "<table border=\"1\" class=\"dataframe\">\n",
              "  <thead>\n",
              "    <tr style=\"text-align: right;\">\n",
              "      <th></th>\n",
              "      <th>Doc</th>\n",
              "      <th>byHand</th>\n",
              "      <th>Categories</th>\n",
              "    </tr>\n",
              "  </thead>\n",
              "  <tbody>\n",
              "    <tr>\n",
              "      <th>0</th>\n",
              "      <td>Do you remember when you were a kid and you sa...</td>\n",
              "      <td>Do you remember when you be a kid and you see ...</td>\n",
              "      <td>Football</td>\n",
              "    </tr>\n",
              "    <tr>\n",
              "      <th>1</th>\n",
              "      <td>Footage from Barcelona's new Amazon Prime seri...</td>\n",
              "      <td>Footage from Barcelona's new Amazon Prime seri...</td>\n",
              "      <td>Football</td>\n",
              "    </tr>\n",
              "    <tr>\n",
              "      <th>2</th>\n",
              "      <td>The 34-year-old, who came through the academy ...</td>\n",
              "      <td>The 34-year-old, who come through the academy ...</td>\n",
              "      <td>Football</td>\n",
              "    </tr>\n",
              "    <tr>\n",
              "      <th>3</th>\n",
              "      <td>Andy Murray and his brother Jamie beat Neal Sk...</td>\n",
              "      <td>Andy Murray and he brother Jamie beat Neal Sku...</td>\n",
              "      <td>Tennis</td>\n",
              "    </tr>\n",
              "    <tr>\n",
              "      <th>4</th>\n",
              "      <td>The 6ft 1in right-handed Austrian has always h...</td>\n",
              "      <td>The 6ft 1in right-handed Austrian have always ...</td>\n",
              "      <td>Tennis</td>\n",
              "    </tr>\n",
              "    <tr>\n",
              "      <th>5</th>\n",
              "      <td>Kyrgios sparked more controversy after pulling...</td>\n",
              "      <td>Kyrgios spark more controversy after pull out ...</td>\n",
              "      <td>Tennis</td>\n",
              "    </tr>\n",
              "    <tr>\n",
              "      <th>6</th>\n",
              "      <td>First, players had to wait for the green to cl...</td>\n",
              "      <td>First, player have to wait for the green to cl...</td>\n",
              "      <td>Golf</td>\n",
              "    </tr>\n",
              "    <tr>\n",
              "      <th>7</th>\n",
              "      <td>Adam Scott has confirmed he will join compatri...</td>\n",
              "      <td>Adam Scott have confirm he will join compatrio...</td>\n",
              "      <td>Golf</td>\n",
              "    </tr>\n",
              "    <tr>\n",
              "      <th>8</th>\n",
              "      <td>We played St. Andrews’ Duke’s Course that morn...</td>\n",
              "      <td>We play St. Andrews’ Duke’s Course that mornin...</td>\n",
              "      <td>Golf</td>\n",
              "    </tr>\n",
              "    <tr>\n",
              "      <th>9</th>\n",
              "      <td>When it comes to men's 3x3, there has only bee...</td>\n",
              "      <td>When it come to men's 3x3, there have only be ...</td>\n",
              "      <td>Basketball</td>\n",
              "    </tr>\n",
              "    <tr>\n",
              "      <th>10</th>\n",
              "      <td>Coming off their NBA Finals run in 2021, the S...</td>\n",
              "      <td>Come off their NBA Finals run in 2021, the Sun...</td>\n",
              "      <td>Basketball</td>\n",
              "    </tr>\n",
              "    <tr>\n",
              "      <th>11</th>\n",
              "      <td>Stephen Curry has built up an extensive catalo...</td>\n",
              "      <td>Stephen Curry have build up an extensive catal...</td>\n",
              "      <td>Basketball</td>\n",
              "    </tr>\n",
              "  </tbody>\n",
              "</table>\n",
              "</div>\n",
              "      <button class=\"colab-df-convert\" onclick=\"convertToInteractive('df-808993fd-b0c1-447a-8fdf-4ed492673d1c')\"\n",
              "              title=\"Convert this dataframe to an interactive table.\"\n",
              "              style=\"display:none;\">\n",
              "        \n",
              "  <svg xmlns=\"http://www.w3.org/2000/svg\" height=\"24px\"viewBox=\"0 0 24 24\"\n",
              "       width=\"24px\">\n",
              "    <path d=\"M0 0h24v24H0V0z\" fill=\"none\"/>\n",
              "    <path d=\"M18.56 5.44l.94 2.06.94-2.06 2.06-.94-2.06-.94-.94-2.06-.94 2.06-2.06.94zm-11 1L8.5 8.5l.94-2.06 2.06-.94-2.06-.94L8.5 2.5l-.94 2.06-2.06.94zm10 10l.94 2.06.94-2.06 2.06-.94-2.06-.94-.94-2.06-.94 2.06-2.06.94z\"/><path d=\"M17.41 7.96l-1.37-1.37c-.4-.4-.92-.59-1.43-.59-.52 0-1.04.2-1.43.59L10.3 9.45l-7.72 7.72c-.78.78-.78 2.05 0 2.83L4 21.41c.39.39.9.59 1.41.59.51 0 1.02-.2 1.41-.59l7.78-7.78 2.81-2.81c.8-.78.8-2.07 0-2.86zM5.41 20L4 18.59l7.72-7.72 1.47 1.35L5.41 20z\"/>\n",
              "  </svg>\n",
              "      </button>\n",
              "      \n",
              "  <style>\n",
              "    .colab-df-container {\n",
              "      display:flex;\n",
              "      flex-wrap:wrap;\n",
              "      gap: 12px;\n",
              "    }\n",
              "\n",
              "    .colab-df-convert {\n",
              "      background-color: #E8F0FE;\n",
              "      border: none;\n",
              "      border-radius: 50%;\n",
              "      cursor: pointer;\n",
              "      display: none;\n",
              "      fill: #1967D2;\n",
              "      height: 32px;\n",
              "      padding: 0 0 0 0;\n",
              "      width: 32px;\n",
              "    }\n",
              "\n",
              "    .colab-df-convert:hover {\n",
              "      background-color: #E2EBFA;\n",
              "      box-shadow: 0px 1px 2px rgba(60, 64, 67, 0.3), 0px 1px 3px 1px rgba(60, 64, 67, 0.15);\n",
              "      fill: #174EA6;\n",
              "    }\n",
              "\n",
              "    [theme=dark] .colab-df-convert {\n",
              "      background-color: #3B4455;\n",
              "      fill: #D2E3FC;\n",
              "    }\n",
              "\n",
              "    [theme=dark] .colab-df-convert:hover {\n",
              "      background-color: #434B5C;\n",
              "      box-shadow: 0px 1px 3px 1px rgba(0, 0, 0, 0.15);\n",
              "      filter: drop-shadow(0px 1px 2px rgba(0, 0, 0, 0.3));\n",
              "      fill: #FFFFFF;\n",
              "    }\n",
              "  </style>\n",
              "\n",
              "      <script>\n",
              "        const buttonEl =\n",
              "          document.querySelector('#df-808993fd-b0c1-447a-8fdf-4ed492673d1c button.colab-df-convert');\n",
              "        buttonEl.style.display =\n",
              "          google.colab.kernel.accessAllowed ? 'block' : 'none';\n",
              "\n",
              "        async function convertToInteractive(key) {\n",
              "          const element = document.querySelector('#df-808993fd-b0c1-447a-8fdf-4ed492673d1c');\n",
              "          const dataTable =\n",
              "            await google.colab.kernel.invokeFunction('convertToInteractive',\n",
              "                                                     [key], {});\n",
              "          if (!dataTable) return;\n",
              "\n",
              "          const docLinkHtml = 'Like what you see? Visit the ' +\n",
              "            '<a target=\"_blank\" href=https://colab.research.google.com/notebooks/data_table.ipynb>data table notebook</a>'\n",
              "            + ' to learn more about interactive tables.';\n",
              "          element.innerHTML = '';\n",
              "          dataTable['output_type'] = 'display_data';\n",
              "          await google.colab.output.renderOutput(dataTable, element);\n",
              "          const docLink = document.createElement('div');\n",
              "          docLink.innerHTML = docLinkHtml;\n",
              "          element.appendChild(docLink);\n",
              "        }\n",
              "      </script>\n",
              "    </div>\n",
              "  </div>\n",
              "  "
            ],
            "text/plain": [
              "                                                  Doc  \\\n",
              "0   Do you remember when you were a kid and you sa...   \n",
              "1   Footage from Barcelona's new Amazon Prime seri...   \n",
              "2   The 34-year-old, who came through the academy ...   \n",
              "3   Andy Murray and his brother Jamie beat Neal Sk...   \n",
              "4   The 6ft 1in right-handed Austrian has always h...   \n",
              "5   Kyrgios sparked more controversy after pulling...   \n",
              "6   First, players had to wait for the green to cl...   \n",
              "7   Adam Scott has confirmed he will join compatri...   \n",
              "8   We played St. Andrews’ Duke’s Course that morn...   \n",
              "9   When it comes to men's 3x3, there has only bee...   \n",
              "10  Coming off their NBA Finals run in 2021, the S...   \n",
              "11  Stephen Curry has built up an extensive catalo...   \n",
              "\n",
              "                                               byHand  Categories  \n",
              "0   Do you remember when you be a kid and you see ...    Football  \n",
              "1   Footage from Barcelona's new Amazon Prime seri...    Football  \n",
              "2   The 34-year-old, who come through the academy ...    Football  \n",
              "3   Andy Murray and he brother Jamie beat Neal Sku...      Tennis  \n",
              "4   The 6ft 1in right-handed Austrian have always ...      Tennis  \n",
              "5   Kyrgios spark more controversy after pull out ...      Tennis  \n",
              "6   First, player have to wait for the green to cl...        Golf  \n",
              "7   Adam Scott have confirm he will join compatrio...        Golf  \n",
              "8   We play St. Andrews’ Duke’s Course that mornin...        Golf  \n",
              "9   When it come to men's 3x3, there have only be ...  Basketball  \n",
              "10  Come off their NBA Finals run in 2021, the Sun...  Basketball  \n",
              "11  Stephen Curry have build up an extensive catal...  Basketball  "
            ]
          },
          "execution_count": 82,
          "metadata": {},
          "output_type": "execute_result"
        }
      ],
      "source": [
        "df_test"
      ]
    },
    {
      "cell_type": "markdown",
      "metadata": {
        "id": "4qTIcO_9l9Tt"
      },
      "source": [
        "## SVM Train, Test"
      ]
    },
    {
      "cell_type": "code",
      "execution_count": null,
      "metadata": {
        "id": "I4qvE43XbRYm"
      },
      "outputs": [],
      "source": [
        "X_train = df_train[\"Doc\"]\n",
        "X_test = df_test[\"Doc\"]\n",
        "y_train = df_train[\"Categories\"]\n",
        "y_test = df_test[\"Categories\"]"
      ]
    },
    {
      "cell_type": "markdown",
      "metadata": {
        "id": "s5ebttKvS4nv"
      },
      "source": [
        "### stop_words = 'english'"
      ]
    },
    {
      "cell_type": "code",
      "execution_count": null,
      "metadata": {
        "colab": {
          "base_uri": "https://localhost:8080/"
        },
        "id": "oW98TCiOmNDs",
        "outputId": "28660b7e-f731-4035-b373-71f762931801"
      },
      "outputs": [
        {
          "name": "stdout",
          "output_type": "stream",
          "text": [
            "              precision    recall  f1-score   support\n",
            "\n",
            "  Basketball       1.00      0.67      0.80         3\n",
            "    Football       0.40      0.67      0.50         3\n",
            "        Golf       1.00      0.67      0.80         3\n",
            "      Tennis       0.67      0.67      0.67         3\n",
            "\n",
            "    accuracy                           0.67        12\n",
            "   macro avg       0.77      0.67      0.69        12\n",
            "weighted avg       0.77      0.67      0.69        12\n",
            "\n"
          ]
        }
      ],
      "source": [
        "text_clf = Pipeline([('vect', CountVectorizer(stop_words='english')),\n",
        "                     ('tfidf', TfidfTransformer()),\n",
        "                     ('clf', LinearSVC()),  \n",
        "                     ])\n",
        "text_clf.fit(X_train, y_train)\n",
        "predicted = text_clf.predict(X_test)\n",
        "print(metrics.classification_report(y_test, predicted))"
      ]
    },
    {
      "cell_type": "code",
      "execution_count": null,
      "metadata": {
        "colab": {
          "base_uri": "https://localhost:8080/"
        },
        "id": "Vci7fsZfrXW3",
        "outputId": "31411fc0-5176-4435-8ab6-ba7e90900b48"
      },
      "outputs": [
        {
          "name": "stdout",
          "output_type": "stream",
          "text": [
            "Predicted:  ['Football' 'Football' 'Tennis' 'Tennis' 'Tennis' 'Football' 'Golf' 'Golf'\n",
            " 'Football' 'Football' 'Basketball' 'Basketball']\n",
            "Actual:  0       Football\n",
            "1       Football\n",
            "2       Football\n",
            "3         Tennis\n",
            "4         Tennis\n",
            "5         Tennis\n",
            "6           Golf\n",
            "7           Golf\n",
            "8           Golf\n",
            "9     Basketball\n",
            "10    Basketball\n",
            "11    Basketball\n",
            "Name: Categories, dtype: object\n"
          ]
        }
      ],
      "source": [
        "print('Predicted: ', predicted)\n",
        "print('Actual: ', y_test)"
      ]
    },
    {
      "cell_type": "code",
      "execution_count": null,
      "metadata": {
        "colab": {
          "base_uri": "https://localhost:8080/",
          "height": 383
        },
        "id": "ni39Iy3qmmRM",
        "outputId": "526bdf2d-8aaa-46d5-e5cc-c6068b89647b"
      },
      "outputs": [
        {
          "data": {
            "image/png": "[encoded data removed]",
            "text/plain": [
              "<Figure size 720x360 with 1 Axes>"
            ]
          },
          "metadata": {
            "needs_background": "light"
          },
          "output_type": "display_data"
        }
      ],
      "source": [
        "names = ['Basketball', 'Football', 'Golf', 'Tennis']\n",
        "cnf_mat = confusion_matrix(y_test, predicted)\n",
        "\n",
        "fig, ax = plt.subplots(figsize=(10,5))\n",
        "fig = sns.heatmap(cnf_mat.T, square=True, annot=True, fmt='d', cmap='binary', cbar=False)\n",
        "\n",
        "plt.xlabel('Actual')\n",
        "ax.set_xticklabels(names, rotation=45)\n",
        "\n",
        "plt.ylabel('Predicted')\n",
        "ax.set_yticklabels(names, rotation=0)\n",
        "\n",
        "plt.title('Confusion Matrix')\n",
        "\n",
        "plt.show()"
      ]
    },
    {
      "cell_type": "markdown",
      "metadata": {
        "id": "8mtLfOldSxn_"
      },
      "source": [
        "### Non stop_words"
      ]
    },
    {
      "cell_type": "code",
      "execution_count": null,
      "metadata": {
        "colab": {
          "base_uri": "https://localhost:8080/"
        },
        "id": "fHiJMlPtMOpt",
        "outputId": "1b801a7a-cae6-4e27-96fd-a39d469047ee"
      },
      "outputs": [
        {
          "name": "stdout",
          "output_type": "stream",
          "text": [
            "              precision    recall  f1-score   support\n",
            "\n",
            "  Basketball       1.00      1.00      1.00         3\n",
            "    Football       0.60      1.00      0.75         3\n",
            "        Golf       1.00      0.67      0.80         3\n",
            "      Tennis       1.00      0.67      0.80         3\n",
            "\n",
            "    accuracy                           0.83        12\n",
            "   macro avg       0.90      0.83      0.84        12\n",
            "weighted avg       0.90      0.83      0.84        12\n",
            "\n"
          ]
        }
      ],
      "source": [
        "text_clf = Pipeline([('vect', CountVectorizer()),\n",
        "                     ('tfidf', TfidfTransformer()),\n",
        "                     ('clf', LinearSVC()),  \n",
        "                     ])\n",
        "text_clf.fit(X_train, y_train)\n",
        "predicted = text_clf.predict(X_test)\n",
        "print(metrics.classification_report(y_test, predicted))"
      ]
    },
    {
      "cell_type": "code",
      "execution_count": null,
      "metadata": {
        "colab": {
          "base_uri": "https://localhost:8080/"
        },
        "id": "ZS3YcMvFMOxt",
        "outputId": "a70c74d4-7502-40de-8f1c-80e2a33b4eb2"
      },
      "outputs": [
        {
          "name": "stdout",
          "output_type": "stream",
          "text": [
            "Predicted:  ['Football' 'Football' 'Football' 'Tennis' 'Tennis' 'Football' 'Golf'\n",
            " 'Golf' 'Football' 'Basketball' 'Basketball' 'Basketball']\n",
            "Actual:  0       Football\n",
            "1       Football\n",
            "2       Football\n",
            "3         Tennis\n",
            "4         Tennis\n",
            "5         Tennis\n",
            "6           Golf\n",
            "7           Golf\n",
            "8           Golf\n",
            "9     Basketball\n",
            "10    Basketball\n",
            "11    Basketball\n",
            "Name: Categories, dtype: object\n"
          ]
        }
      ],
      "source": [
        "print('Predicted: ', predicted)\n",
        "print('Actual: ', y_test)"
      ]
    },
    {
      "cell_type": "code",
      "execution_count": null,
      "metadata": {
        "colab": {
          "base_uri": "https://localhost:8080/",
          "height": 383
        },
        "id": "j2Y8A-ZOMO6Q",
        "outputId": "91f77a78-cebe-4711-81cd-2c45d655ee93"
      },
      "outputs": [
        {
          "data": {
            "image/png": "[encoded data removed]",
            "text/plain": [
              "<Figure size 720x360 with 1 Axes>"
            ]
          },
          "metadata": {
            "needs_background": "light"
          },
          "output_type": "display_data"
        }
      ],
      "source": [
        "names = ['Basketball', 'Football', 'Golf', 'Tennis']\n",
        "cnf_mat = confusion_matrix(y_test, predicted)\n",
        "\n",
        "fig, ax = plt.subplots(figsize=(10,5))\n",
        "fig = sns.heatmap(cnf_mat.T, square=True, annot=True, fmt='d', cmap='binary', cbar=False)\n",
        "\n",
        "plt.xlabel('Actual')\n",
        "ax.set_xticklabels(names, rotation=45)\n",
        "\n",
        "plt.ylabel('Predicted')\n",
        "ax.set_yticklabels(names, rotation=0)\n",
        "\n",
        "plt.title('Confusion Matrix')\n",
        "\n",
        "plt.show()"
      ]
    },
    {
      "cell_type": "markdown",
      "metadata": {
        "id": "GLPSdTvQQWhS"
      },
      "source": [
        "## Classification with NLP (Porter_Stem, Lemma)"
      ]
    },
    {
      "cell_type": "markdown",
      "metadata": {
        "id": "4gFzUQiaxT68"
      },
      "source": [
        "### Cre Stemming & Lemmatizer"
      ]
    },
    {
      "cell_type": "code",
      "execution_count": null,
      "metadata": {
        "id": "UnM5zFW4OL6T"
      },
      "outputs": [],
      "source": [
        "# Chuyen tu goc Lemmatizer\n",
        "# import these modules\n"
      ]
    },
    {
      "cell_type": "code",
      "execution_count": null,
      "metadata": {
        "id": "_Y8cLk_2JJBW"
      },
      "outputs": [],
      "source": [
        "#tokenizer= word_tokenize() #if you want to split text into word tokens\n",
        "lemmatizer = WordNetLemmatizer()"
      ]
    },
    {
      "cell_type": "code",
      "execution_count": null,
      "metadata": {
        "id": "OTa3AVBxLaN1"
      },
      "outputs": [],
      "source": [
        "def tokenizer(text):\n",
        "  tokens = word_tokenize(text)\n",
        "  tokens = [token.strip() for token in tokens]\n",
        "  return tokens"
      ]
    },
    {
      "cell_type": "code",
      "execution_count": null,
      "metadata": {
        "id": "HwSBE-O3M9zZ"
      },
      "outputs": [],
      "source": [
        "tokens = df_train['Doc'].apply(tokenizer)"
      ]
    },
    {
      "cell_type": "code",
      "execution_count": null,
      "metadata": {
        "id": "bdDbFv8K-HWM"
      },
      "outputs": [],
      "source": [
        "showz = 'Natural language processing strives to build machines that understand'"
      ]
    },
    {
      "cell_type": "code",
      "execution_count": null,
      "metadata": {
        "colab": {
          "base_uri": "https://localhost:8080/"
        },
        "id": "5DDCKZW5-P32",
        "outputId": "1720c821-bda7-4c25-d122-0e6233669729"
      },
      "outputs": [
        {
          "name": "stdout",
          "output_type": "stream",
          "text": [
            "Before:  Natural language processing strives to build machines that understand\n",
            "After:   Natural, language, processing, strives, to, build, machines, that, understand\n"
          ]
        }
      ],
      "source": [
        "print('Before: ', showz)\n",
        "print('After:  ', ', '.join(showz.split()))"
      ]
    },
    {
      "cell_type": "code",
      "execution_count": null,
      "metadata": {
        "id": "fYzNT0PsFD3X"
      },
      "outputs": [],
      "source": [
        "token = word_tokenize(showz)"
      ]
    },
    {
      "cell_type": "code",
      "execution_count": null,
      "metadata": {
        "id": "KzUCvMHdJJeL"
      },
      "outputs": [],
      "source": [
        "spl = showz.split()"
      ]
    },
    {
      "cell_type": "code",
      "execution_count": null,
      "metadata": {
        "id": "F53jnGVSEEQc"
      },
      "outputs": [],
      "source": [
        "lemmaz = ' '.join([lemmatizer.lemmatize(word, pos='n') for word in showz.split()])\n",
        "lemmaz = ' '.join([lemmatizer.lemmatize(word, pos='v') for word in lemmaz.split()])\n",
        "lemmaz = ' '.join([lemmatizer.lemmatize(word, pos='a') for word in lemmaz.split()])\n",
        "lemmaz = ' '.join([lemmatizer.lemmatize(word, pos='r') for word in lemmaz.split()])"
      ]
    },
    {
      "cell_type": "code",
      "execution_count": null,
      "metadata": {
        "colab": {
          "base_uri": "https://localhost:8080/"
        },
        "id": "ohbRkE_9EZ8S",
        "outputId": "1ad98a31-cf4b-4bcd-8eaf-0cb9db858a8d"
      },
      "outputs": [
        {
          "name": "stdout",
          "output_type": "stream",
          "text": [
            "Natural language process strive to build machine that understand\n"
          ]
        }
      ],
      "source": [
        "print(lemmaz)"
      ]
    },
    {
      "cell_type": "code",
      "execution_count": null,
      "metadata": {
        "colab": {
          "base_uri": "https://localhost:8080/"
        },
        "id": "xc1myJ3wRA6C",
        "outputId": "7091c66f-7814-494a-e74c-7bfcaafb80e6"
      },
      "outputs": [
        {
          "name": "stdout",
          "output_type": "stream",
          "text": [
            "machines -->  machine\n",
            "strives -->  strive\n",
            "better -->  good\n"
          ]
        }
      ],
      "source": [
        "from nltk.stem import WordNetLemmatizer\n",
        "lemmatizer = WordNetLemmatizer()\n",
        "\n",
        "print('machines --> ', lemmatizer.lemmatize('machines', pos='n'))\n",
        "print('strives --> ', lemmatizer.lemmatize('strives', pos='v'))\n",
        "print('better --> ', lemmatizer.lemmatize('better', pos='a'))"
      ]
    },
    {
      "cell_type": "code",
      "execution_count": null,
      "metadata": {
        "id": "r47sHHcBNL1T"
      },
      "outputs": [],
      "source": [
        "#tokens"
      ]
    },
    {
      "cell_type": "code",
      "execution_count": null,
      "metadata": {
        "id": "-IsjZ5DhMGD4"
      },
      "outputs": [],
      "source": [
        "def porter_stemmer(text):\n",
        "  ps = nltk.porter.PorterStemmer()\n",
        "  text= ' '.join([ps.stem(word) for word in text.split()])\n",
        "  return text\n",
        "\n",
        "  "
      ]
    },
    {
      "cell_type": "code",
      "execution_count": null,
      "metadata": {
        "colab": {
          "base_uri": "https://localhost:8080/"
        },
        "id": "HBO1Xxj9j3vC",
        "outputId": "a727260e-bfbd-4a97-b58d-936210a3349d"
      },
      "outputs": [
        {
          "name": "stderr",
          "output_type": "stream",
          "text": [
            "[nltk_data] Downloading package stopwords to /root/nltk_data...\n",
            "[nltk_data]   Unzipping corpora/stopwords.zip.\n"
          ]
        }
      ],
      "source": [
        "import nltk\n",
        "nltk.download('stopwords')\n",
        "\n",
        "stopword_list= stopwords.words('english')\n",
        "stop_words = set(stopwords.words('english'))"
      ]
    },
    {
      "cell_type": "code",
      "execution_count": null,
      "metadata": {
        "id": "-ZUiHScGjWhw"
      },
      "outputs": [],
      "source": [
        "\n",
        "def token_stop_word(text, is_lower_case=False):\n",
        "    tokens = word_tokenize(text)\n",
        "    tokens = [token.strip() for token in tokens]\n",
        "    if is_lower_case:\n",
        "        filtered_tokens = [token for token in tokens if token not in stopword_list]\n",
        "    else:\n",
        "        filtered_tokens = [token for token in tokens if token.lower() not in stopword_list]\n",
        "    filtered_text = ' '.join(filtered_tokens)    \n",
        "    return filtered_text"
      ]
    },
    {
      "cell_type": "code",
      "execution_count": null,
      "metadata": {
        "id": "681oSrAlVB7t"
      },
      "outputs": [],
      "source": [
        "def lemmatization(text):\n",
        "  \"\"\"\n",
        "  tokens = word_tokenize(text)\n",
        "  tokens = [token.strip() for token in tokens]\n",
        "  lemmatized_string = ' '.join([lemmatizer.lemmatize(token) for token in tokens])\n",
        "  \"\"\"\n",
        "  lemmatized_string = ' '.join([lemmatizer.lemmatize(word, pos='n') for word in text.split()])\n",
        "  lemmatized_string = ' '.join([lemmatizer.lemmatize(word, pos='v') for word in lemmatized_string.split()])\n",
        "  lemmatized_string = ' '.join([lemmatizer.lemmatize(word, pos='a') for word in lemmatized_string.split()])\n",
        "  lemmatized_string = ' '.join([lemmatizer.lemmatize(word, pos='r') for word in lemmatized_string.split()])\n",
        "  lemmatized_string = ' '.join([lemmatizer.lemmatize(word, pos='s') for word in lemmatized_string.split()])\n",
        "  #lemmatized_string = token_stop_word(lemmatized_string) # no use stopwords\n",
        "  return lemmatized_string"
      ]
    },
    {
      "cell_type": "code",
      "execution_count": null,
      "metadata": {
        "id": "CPi2Q7DodZsG"
      },
      "outputs": [],
      "source": [
        "# Apply \n",
        "df_train['Lemma'] = df_train['Doc'].apply(lemmatization)\n",
        "df_test['Lemma'] = df_test['Doc'].apply(lemmatization)"
      ]
    },
    {
      "cell_type": "code",
      "execution_count": null,
      "metadata": {
        "id": "dsjhcPlbLEXe"
      },
      "outputs": [],
      "source": [
        "#df_test"
      ]
    },
    {
      "cell_type": "markdown",
      "metadata": {
        "id": "239yCMraa6AT"
      },
      "source": [
        "### Non-stopwords"
      ]
    },
    {
      "cell_type": "markdown",
      "metadata": {
        "id": "pWXpW6NL6mvP"
      },
      "source": [
        "#### by Hand"
      ]
    },
    {
      "cell_type": "code",
      "execution_count": null,
      "metadata": {
        "id": "tBl6y2B46qdY"
      },
      "outputs": [],
      "source": [
        "X_train_h = df_train['byHand']\n",
        "y_train_h = df_train['Categories']\n",
        "X_test_h = df_test['byHand']\n",
        "y_test_h = df_test['Categories']"
      ]
    },
    {
      "cell_type": "code",
      "execution_count": null,
      "metadata": {
        "colab": {
          "base_uri": "https://localhost:8080/"
        },
        "id": "ytJ57r9v6yUK",
        "outputId": "a8abdabe-b9c3-4238-9301-7a92bb93a25d"
      },
      "outputs": [
        {
          "name": "stdout",
          "output_type": "stream",
          "text": [
            "              precision    recall  f1-score   support\n",
            "\n",
            "  Basketball       1.00      1.00      1.00         3\n",
            "    Football       0.60      1.00      0.75         3\n",
            "        Golf       1.00      0.33      0.50         3\n",
            "      Tennis       0.67      0.67      0.67         3\n",
            "\n",
            "    accuracy                           0.75        12\n",
            "   macro avg       0.82      0.75      0.73        12\n",
            "weighted avg       0.82      0.75      0.73        12\n",
            "\n"
          ]
        }
      ],
      "source": [
        "text_clf = Pipeline([('vect', CountVectorizer()),\n",
        "                     ('tfidf', TfidfTransformer()),\n",
        "                     ('clf', LinearSVC()),  \n",
        "                     ])\n",
        "text_clf.fit(X_train_h, y_train_h)\n",
        "predicted_h = text_clf.predict(X_test_h)\n",
        "print(metrics.classification_report(y_test_h, predicted_h))"
      ]
    },
    {
      "cell_type": "code",
      "execution_count": null,
      "metadata": {
        "colab": {
          "base_uri": "https://localhost:8080/",
          "height": 383
        },
        "id": "7QgsCxA9-PfP",
        "outputId": "0d68dc67-73b1-4fca-c42c-cb3928d8b535"
      },
      "outputs": [
        {
          "data": {
            "image/png": "[encoded data removed]",
            "text/plain": [
              "<Figure size 720x360 with 1 Axes>"
            ]
          },
          "metadata": {
            "needs_background": "light"
          },
          "output_type": "display_data"
        }
      ],
      "source": [
        "names = ['Basketball', 'Football', 'Golf', 'Tennis']\n",
        "cnf_mat = confusion_matrix(y_test_h, predicted_h)\n",
        "\n",
        "fig, ax = plt.subplots(figsize=(10,5))\n",
        "fig = sns.heatmap(cnf_mat.T, square=True, annot=True, fmt='d', cmap='binary', cbar=False)\n",
        "\n",
        "plt.xlabel('Actual')\n",
        "ax.set_xticklabels(names, rotation=45)\n",
        "\n",
        "plt.ylabel('Predicted')\n",
        "ax.set_yticklabels(names, rotation=0)\n",
        "\n",
        "plt.title('Confusion Matrix')\n",
        "\n",
        "plt.show()"
      ]
    },
    {
      "cell_type": "code",
      "execution_count": null,
      "metadata": {
        "colab": {
          "base_uri": "https://localhost:8080/"
        },
        "id": "VfmAd6k3lIrv",
        "outputId": "a5689c06-caaa-40c2-e57a-0b220fd4b5c2"
      },
      "outputs": [
        {
          "name": "stdout",
          "output_type": "stream",
          "text": [
            "Predicted:  ['Football' 'Football' 'Football' 'Tennis' 'Tennis' 'Football' 'Tennis'\n",
            " 'Golf' 'Football' 'Basketball' 'Basketball' 'Basketball']\n",
            "Actual:  \n",
            " 0       Football\n",
            "1       Football\n",
            "2       Football\n",
            "3         Tennis\n",
            "4         Tennis\n",
            "5         Tennis\n",
            "6           Golf\n",
            "7           Golf\n",
            "8           Golf\n",
            "9     Basketball\n",
            "10    Basketball\n",
            "11    Basketball\n",
            "Name: Categories, dtype: object\n"
          ]
        }
      ],
      "source": [
        "print('Predicted: ', predicted_h)\n",
        "print('Actual: ', '\\n', y_test_h)"
      ]
    },
    {
      "cell_type": "markdown",
      "metadata": {
        "id": "DYOAz3jsKQeg"
      },
      "source": [
        "#### Lemma"
      ]
    },
    {
      "cell_type": "code",
      "execution_count": null,
      "metadata": {
        "id": "HnEdFF_dOMKK"
      },
      "outputs": [],
      "source": [
        "X_train_l = df_train['Lemma']\n",
        "y_train_l = df_train['Categories']\n",
        "X_test_l = df_test['Lemma']\n",
        "y_test_l = df_test['Categories']"
      ]
    },
    {
      "cell_type": "code",
      "execution_count": null,
      "metadata": {
        "id": "X7VB7Aj1EzIX"
      },
      "outputs": [],
      "source": [
        "#predicted"
      ]
    },
    {
      "cell_type": "code",
      "execution_count": null,
      "metadata": {
        "colab": {
          "base_uri": "https://localhost:8080/"
        },
        "id": "SiYgU_KSEpGI",
        "outputId": "d8ace7dc-d895-4f5d-86ea-4ad2f62bd4a9"
      },
      "outputs": [
        {
          "name": "stdout",
          "output_type": "stream",
          "text": [
            "              precision    recall  f1-score   support\n",
            "\n",
            "  Basketball       1.00      1.00      1.00         3\n",
            "    Football       0.60      1.00      0.75         3\n",
            "        Golf       1.00      0.33      0.50         3\n",
            "      Tennis       0.67      0.67      0.67         3\n",
            "\n",
            "    accuracy                           0.75        12\n",
            "   macro avg       0.82      0.75      0.73        12\n",
            "weighted avg       0.82      0.75      0.73        12\n",
            "\n"
          ]
        }
      ],
      "source": [
        "text_clf = Pipeline([('vect', CountVectorizer()),\n",
        "                     ('tfidf', TfidfTransformer()),\n",
        "                     ('clf', LinearSVC()),  \n",
        "                     ])\n",
        "text_clf.fit(X_train_l, y_train_l)\n",
        "predicted_l = text_clf.predict(X_test_l)\n",
        "print(metrics.classification_report(y_test_l, predicted_l))"
      ]
    },
    {
      "cell_type": "code",
      "execution_count": null,
      "metadata": {
        "colab": {
          "base_uri": "https://localhost:8080/",
          "height": 383
        },
        "id": "MpIjDw3x-0tA",
        "outputId": "5962d227-6846-4eae-9ed2-64c042d457da"
      },
      "outputs": [
        {
          "data": {
            "image/png": "[encoded data removed]",
            "text/plain": [
              "<Figure size 720x360 with 1 Axes>"
            ]
          },
          "metadata": {
            "needs_background": "light"
          },
          "output_type": "display_data"
        }
      ],
      "source": [
        "names = ['Basketball', 'Football', 'Golf', 'Tennis']\n",
        "cnf_mat = confusion_matrix(y_test_l, predicted_l)\n",
        "\n",
        "fig, ax = plt.subplots(figsize=(10,5))\n",
        "fig = sns.heatmap(cnf_mat.T, square=True, annot=True, fmt='d', cmap='binary', cbar=False)\n",
        "\n",
        "plt.xlabel('Actual')\n",
        "ax.set_xticklabels(names, rotation=45)\n",
        "\n",
        "plt.ylabel('Predicted')\n",
        "ax.set_yticklabels(names, rotation=0)\n",
        "\n",
        "plt.title('Confusion Matrix')\n",
        "\n",
        "plt.show()"
      ]
    },
    {
      "cell_type": "code",
      "execution_count": null,
      "metadata": {
        "colab": {
          "base_uri": "https://localhost:8080/"
        },
        "id": "wQ0j3HK3vtU5",
        "outputId": "4ca5254f-fd27-4869-a730-225cc2b8b6ae"
      },
      "outputs": [
        {
          "name": "stdout",
          "output_type": "stream",
          "text": [
            "Predicted:  ['Football' 'Football' 'Football' 'Tennis' 'Tennis' 'Football' 'Tennis'\n",
            " 'Golf' 'Football' 'Basketball' 'Basketball' 'Basketball']\n",
            "Actual:  \n",
            " 0       Football\n",
            "1       Football\n",
            "2       Football\n",
            "3         Tennis\n",
            "4         Tennis\n",
            "5         Tennis\n",
            "6           Golf\n",
            "7           Golf\n",
            "8           Golf\n",
            "9     Basketball\n",
            "10    Basketball\n",
            "11    Basketball\n",
            "Name: Categories, dtype: object\n"
          ]
        }
      ],
      "source": [
        "print('Predicted: ', predicted_l)\n",
        "print('Actual: ', '\\n', y_test_l)"
      ]
    },
    {
      "cell_type": "markdown",
      "metadata": {
        "id": "_0YyokMk8tVG"
      },
      "source": [
        "### stopwords"
      ]
    },
    {
      "cell_type": "code",
      "execution_count": null,
      "metadata": {
        "id": "6H7KiIJ6fak4"
      },
      "outputs": [],
      "source": [
        "\n",
        "stopword_list= stopwords.words('english')\n",
        "stop_words = set(stopwords.words('english'))"
      ]
    },
    {
      "cell_type": "code",
      "execution_count": null,
      "metadata": {
        "id": "W8nWBCh_Xbgn"
      },
      "outputs": [],
      "source": [
        "def lemmatization(text):\n",
        "  \"\"\"\n",
        "  tokens = word_tokenize(text)\n",
        "  tokens = [token.strip() for token in tokens]\n",
        "  lemmatized_string = ' '.join([lemmatizer.lemmatize(token) for token in tokens])\n",
        "  \"\"\"\n",
        "  lemmatized_string = ' '.join([lemmatizer.lemmatize(word, pos='n') for word in text.split()])\n",
        "  lemmatized_string = ' '.join([lemmatizer.lemmatize(word, pos='v') for word in lemmatized_string.split()])\n",
        "  lemmatized_string = ' '.join([lemmatizer.lemmatize(word, pos='a') for word in lemmatized_string.split()])\n",
        "  lemmatized_string = ' '.join([lemmatizer.lemmatize(word, pos='r') for word in lemmatized_string.split()])\n",
        "  lemmatized_string = ' '.join([lemmatizer.lemmatize(word, pos='s') for word in lemmatized_string.split()])\n",
        "  lemmatized_string = token_stop_word(lemmatized_string)\n",
        "  return lemmatized_string"
      ]
    },
    {
      "cell_type": "markdown",
      "metadata": {
        "id": "bRWx1Y06X2qO"
      },
      "source": [
        "#### By Hand"
      ]
    },
    {
      "cell_type": "code",
      "execution_count": null,
      "metadata": {
        "colab": {
          "base_uri": "https://localhost:8080/"
        },
        "id": "4ji8c6oYX6oQ",
        "outputId": "b7f248db-cccb-4861-b064-ba18dc21f792"
      },
      "outputs": [
        {
          "name": "stdout",
          "output_type": "stream",
          "text": [
            "              precision    recall  f1-score   support\n",
            "\n",
            "  Basketball       1.00      0.67      0.80         3\n",
            "    Football       0.40      0.67      0.50         3\n",
            "        Golf       1.00      0.67      0.80         3\n",
            "      Tennis       0.67      0.67      0.67         3\n",
            "\n",
            "    accuracy                           0.67        12\n",
            "   macro avg       0.77      0.67      0.69        12\n",
            "weighted avg       0.77      0.67      0.69        12\n",
            "\n"
          ]
        }
      ],
      "source": [
        "text_clf = Pipeline([('vect', CountVectorizer(stop_words='english')),\n",
        "                     ('tfidf', TfidfTransformer()),\n",
        "                     ('clf', LinearSVC()),  \n",
        "                     ])\n",
        "text_clf.fit(X_train_h, y_train_h)\n",
        "predicted_h = text_clf.predict(X_test_h)\n",
        "print(metrics.classification_report(y_test_h, predicted_h))"
      ]
    },
    {
      "cell_type": "code",
      "execution_count": null,
      "metadata": {
        "colab": {
          "base_uri": "https://localhost:8080/",
          "height": 383
        },
        "id": "nx9370xgX6wV",
        "outputId": "b7bcbba4-109b-49a4-f631-5b734a8ab155"
      },
      "outputs": [
        {
          "data": {
            "image/png": "[encoded data removed]",
            "text/plain": [
              "<Figure size 720x360 with 1 Axes>"
            ]
          },
          "metadata": {
            "needs_background": "light"
          },
          "output_type": "display_data"
        }
      ],
      "source": [
        "names = ['Basketball', 'Football', 'Golf', 'Tennis']\n",
        "cnf_mat = confusion_matrix(y_test_l, predicted_h)\n",
        "\n",
        "fig, ax = plt.subplots(figsize=(10,5))\n",
        "fig = sns.heatmap(cnf_mat.T, square=True, annot=True, fmt='d', cmap='binary', cbar=False)\n",
        "\n",
        "plt.xlabel('Actual')\n",
        "ax.set_xticklabels(names, rotation=45)\n",
        "\n",
        "plt.ylabel('Predicted')\n",
        "ax.set_yticklabels(names, rotation=0)\n",
        "\n",
        "plt.title('Confusion Matrix')\n",
        "\n",
        "plt.show()"
      ]
    },
    {
      "cell_type": "code",
      "execution_count": null,
      "metadata": {
        "colab": {
          "base_uri": "https://localhost:8080/"
        },
        "id": "ilCmBtcaX6zB",
        "outputId": "42b78070-61d2-45c8-9574-5956daa37092"
      },
      "outputs": [
        {
          "name": "stdout",
          "output_type": "stream",
          "text": [
            "Predicted:  ['Football' 'Football' 'Tennis' 'Tennis' 'Tennis' 'Football' 'Golf' 'Golf'\n",
            " 'Football' 'Football' 'Basketball' 'Basketball']\n",
            "Actual:  \n",
            " 0       Football\n",
            "1       Football\n",
            "2       Football\n",
            "3         Tennis\n",
            "4         Tennis\n",
            "5         Tennis\n",
            "6           Golf\n",
            "7           Golf\n",
            "8           Golf\n",
            "9     Basketball\n",
            "10    Basketball\n",
            "11    Basketball\n",
            "Name: Categories, dtype: object\n"
          ]
        }
      ],
      "source": [
        "print('Predicted: ', predicted_h)\n",
        "print('Actual: ', '\\n', y_test_h)"
      ]
    },
    {
      "cell_type": "markdown",
      "metadata": {
        "id": "DPfyTaV2X4dQ"
      },
      "source": [
        "#### Lemma"
      ]
    },
    {
      "cell_type": "code",
      "execution_count": null,
      "metadata": {
        "id": "1ln0YDSrXbjP"
      },
      "outputs": [],
      "source": [
        "df_train['Lemma'] = df_train['Doc'].apply(lemmatization)\n",
        "df_test['Lemma'] = df_test['Doc'].apply(lemmatization)"
      ]
    },
    {
      "cell_type": "code",
      "execution_count": null,
      "metadata": {
        "id": "GWer3jcdYGEd"
      },
      "outputs": [],
      "source": [
        "X_train_l = df_train['Lemma']\n",
        "y_train_l = df_train['Categories']\n",
        "X_test_l = df_test['Lemma']\n",
        "y_test_l = df_test['Categories']"
      ]
    },
    {
      "cell_type": "code",
      "execution_count": null,
      "metadata": {
        "colab": {
          "base_uri": "https://localhost:8080/"
        },
        "id": "wmuMRyHBYGG_",
        "outputId": "455e715d-61a6-4d19-c299-7befcd49575f"
      },
      "outputs": [
        {
          "name": "stdout",
          "output_type": "stream",
          "text": [
            "              precision    recall  f1-score   support\n",
            "\n",
            "  Basketball       1.00      0.67      0.80         3\n",
            "    Football       0.50      1.00      0.67         3\n",
            "        Golf       1.00      0.67      0.80         3\n",
            "      Tennis       1.00      0.67      0.80         3\n",
            "\n",
            "    accuracy                           0.75        12\n",
            "   macro avg       0.88      0.75      0.77        12\n",
            "weighted avg       0.88      0.75      0.77        12\n",
            "\n"
          ]
        }
      ],
      "source": [
        "text_clf = Pipeline([('vect', CountVectorizer()),\n",
        "                     ('tfidf', TfidfTransformer()),\n",
        "                     ('clf', LinearSVC()),  \n",
        "                     ])\n",
        "text_clf.fit(X_train_l, y_train_l)\n",
        "predicted_l = text_clf.predict(X_test_l)\n",
        "print(metrics.classification_report(y_test_l, predicted_l))"
      ]
    },
    {
      "cell_type": "code",
      "execution_count": null,
      "metadata": {
        "colab": {
          "base_uri": "https://localhost:8080/",
          "height": 383
        },
        "id": "11g-q4nFYGKF",
        "outputId": "cfc41a23-0ce3-4edb-efab-7437b49e780b"
      },
      "outputs": [
        {
          "data": {
            "image/png": "[encoded data removed]",
            "text/plain": [
              "<Figure size 720x360 with 1 Axes>"
            ]
          },
          "metadata": {
            "needs_background": "light"
          },
          "output_type": "display_data"
        }
      ],
      "source": [
        "names = ['Basketball', 'Football', 'Golf', 'Tennis']\n",
        "cnf_mat = confusion_matrix(y_test_l, predicted_l)\n",
        "\n",
        "fig, ax = plt.subplots(figsize=(10,5))\n",
        "fig = sns.heatmap(cnf_mat.T, square=True, annot=True, fmt='d', cmap='binary', cbar=False)\n",
        "\n",
        "plt.xlabel('Actual')\n",
        "ax.set_xticklabels(names, rotation=45)\n",
        "\n",
        "plt.ylabel('Predicted')\n",
        "ax.set_yticklabels(names, rotation=0)\n",
        "\n",
        "plt.title('Confusion Matrix')\n",
        "\n",
        "plt.show()"
      ]
    },
    {
      "cell_type": "code",
      "execution_count": null,
      "metadata": {
        "colab": {
          "base_uri": "https://localhost:8080/"
        },
        "id": "LPbnebz4Xbm1",
        "outputId": "a0fa9e1d-3d07-437f-a01e-4a9541d2f262"
      },
      "outputs": [
        {
          "name": "stdout",
          "output_type": "stream",
          "text": [
            "Predicted:  ['Football' 'Football' 'Football' 'Tennis' 'Tennis' 'Football' 'Golf'\n",
            " 'Golf' 'Football' 'Football' 'Basketball' 'Basketball']\n",
            "Actual:  \n",
            " 0       Football\n",
            "1       Football\n",
            "2       Football\n",
            "3         Tennis\n",
            "4         Tennis\n",
            "5         Tennis\n",
            "6           Golf\n",
            "7           Golf\n",
            "8           Golf\n",
            "9     Basketball\n",
            "10    Basketball\n",
            "11    Basketball\n",
            "Name: Categories, dtype: object\n"
          ]
        }
      ],
      "source": [
        "print('Predicted: ', predicted_l)\n",
        "print('Actual: ', '\\n', y_test_l)"
      ]
    }
  ],
  "metadata": {
    "colab": {
      "collapsed_sections": [
        "hR8VMqpQRQ1a",
        "bYzE_nALHkO7",
        "BwEavl03Yend",
        "1JlEOHibf1Og",
        "4RMvXRtJo_SJ",
        "4qTIcO_9l9Tt",
        "4gFzUQiaxT68",
        "pWXpW6NL6mvP",
        "a56nse_sKMuB",
        "DYOAz3jsKQeg",
        "_0YyokMk8tVG",
        "Zzon4a1fN_fB",
        "lTD87IAwOQ5S"
      ],
      "provenance": [],
      "toc_visible": true
    },
    "kernelspec": {
      "display_name": "Python 3",
      "name": "python3"
    },
    "language_info": {
      "name": "python"
    }
  },
  "nbformat": 4,
  "nbformat_minor": 0
}
