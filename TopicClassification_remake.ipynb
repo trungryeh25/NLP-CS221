{
  "nbformat": 4,
  "nbformat_minor": 0,
  "metadata": {
    "colab": {
      "provenance": []
    },
    "kernelspec": {
      "name": "python3",
      "display_name": "Python 3"
    },
    "language_info": {
      "name": "python"
    }
  },
  "cells": [
    {
      "cell_type": "markdown",
      "source": [
        "# *Project -* **Topic Classification**\n",
        "*Subject -* Natural Language Processing "
      ],
      "metadata": {
        "id": "AqMeFBnmIFLu"
      }
    },
    {
      "cell_type": "markdown",
      "source": [
        "## Count words"
      ],
      "metadata": {
        "id": "bYzE_nALHkO7"
      }
    },
    {
      "cell_type": "code",
      "source": [
        "import string\n",
        "import re\n",
        "import joblib\n"
      ],
      "metadata": {
        "id": "GNPi_yziDuMj"
      },
      "execution_count": 1,
      "outputs": []
    },
    {
      "cell_type": "code",
      "execution_count": 183,
      "metadata": {
        "id": "NoeM0l-3CchW"
      },
      "outputs": [],
      "source": [
        "str_ = \"Will it extend your life by removing a fast-growing tumor? Will your quality of life improve by making it easier to walk? Will it prevent you from becoming disabled, akin to a hip replacement? Just because an abnormality such as a hernia has been found doesn’t mean it has to be addressed, especially if you don’t have bothersome symptoms and the procedure comes with complications.\""
      ]
    },
    {
      "cell_type": "code",
      "source": [
        "def process_text(text):\n",
        "    text = text.lower()\n",
        "    text = re.sub(\n",
        "        f\"[{re.escape(string.punctuation)}]\", \" \", text\n",
        "    )\n",
        "    text = \" \".join(text.split())\n",
        "    return text"
      ],
      "metadata": {
        "id": "gIVAzrLZGDMH"
      },
      "execution_count": 184,
      "outputs": []
    },
    {
      "cell_type": "code",
      "source": [
        "str1 = process_text(str_)\n",
        "#str1"
      ],
      "metadata": {
        "id": "phsMXMbXGEZq"
      },
      "execution_count": 185,
      "outputs": []
    },
    {
      "cell_type": "code",
      "source": [
        "str1 = str1.split()\n",
        "#str1"
      ],
      "metadata": {
        "id": "TWf9kuXvHE65"
      },
      "execution_count": 186,
      "outputs": []
    },
    {
      "cell_type": "code",
      "source": [
        "c=0\n",
        "for i in str1:\n",
        "  c+=1;\n",
        "c"
      ],
      "metadata": {
        "colab": {
          "base_uri": "https://localhost:8080/"
        },
        "id": "-T0acaRgHQRj",
        "outputId": "17c54d45-912d-49a9-e21c-4967971a7ae6"
      },
      "execution_count": 187,
      "outputs": [
        {
          "output_type": "execute_result",
          "data": {
            "text/plain": [
              "66"
            ]
          },
          "metadata": {},
          "execution_count": 187
        }
      ]
    },
    {
      "cell_type": "markdown",
      "source": [
        "## Import data"
      ],
      "metadata": {
        "id": "BwEavl03Yend"
      }
    },
    {
      "cell_type": "code",
      "source": [
        "import pandas as pd"
      ],
      "metadata": {
        "id": "AAaaVotUYg6K"
      },
      "execution_count": 131,
      "outputs": []
    },
    {
      "cell_type": "code",
      "source": [
        "df_train = pd.read_csv(\"/content/df_train.csv\")\n",
        "df_train = df_train[[\"Doc\", \"Categories\"]]\n",
        "df_train = df_train.dropna()\n",
        "#df_train\n",
        "\n",
        "df_test = pd.read_csv(\"/content/df_test.csv\")\n",
        "df_test = df_test[[\"Doc\", \"Categories\"]]\n",
        "df_test = df_test.dropna()\n"
      ],
      "metadata": {
        "id": "dpxcHx6sZSjH"
      },
      "execution_count": 188,
      "outputs": []
    },
    {
      "cell_type": "code",
      "source": [
        "X_train = df_train[\"Doc\"]\n",
        "X_test = df_test[\"Doc\"]\n",
        "y_train = df_train[\"Categories\"]\n",
        "y_test = df_test[\"Categories\"]"
      ],
      "metadata": {
        "id": "I4qvE43XbRYm"
      },
      "execution_count": 190,
      "outputs": []
    },
    {
      "cell_type": "markdown",
      "source": [
        "## SVM Train, Test"
      ],
      "metadata": {
        "id": "4qTIcO_9l9Tt"
      }
    },
    {
      "cell_type": "code",
      "source": [
        "from sklearn.feature_extraction.text import TfidfVectorizer\n",
        "from sklearn.feature_extraction.text import TfidfTransformer\n",
        "from sklearn.feature_extraction.text import CountVectorizer\n",
        "import numpy as np\n",
        "from sklearn import metrics\n",
        "import seaborn as sns\n",
        "\n",
        "from sklearn.metrics import confusion_matrix\n",
        "import matplotlib.pyplot as plt\n",
        "from keras.preprocessing.text import Tokenizer\n",
        "\n",
        "from sklearn.pipeline import Pipeline\n",
        "from sklearn.svm import LinearSVC"
      ],
      "metadata": {
        "id": "K5ETyYhvbbSU"
      },
      "execution_count": 191,
      "outputs": []
    },
    {
      "cell_type": "code",
      "source": [],
      "metadata": {
        "id": "pqoAC_jimM-p"
      },
      "execution_count": null,
      "outputs": []
    },
    {
      "cell_type": "code",
      "source": [
        "text_clf = Pipeline([('vect', CountVectorizer()),\n",
        "                     ('tfidf', TfidfTransformer()),\n",
        "                     ('clf', LinearSVC()),\n",
        "                     ])\n",
        "text_clf.fit(X_train, y_train)\n",
        "predicted = text_clf.predict(X_test)\n",
        "print(metrics.classification_report(y_test, predicted))"
      ],
      "metadata": {
        "colab": {
          "base_uri": "https://localhost:8080/"
        },
        "id": "oW98TCiOmNDs",
        "outputId": "53166821-fe39-49ac-a8dc-e3b7aaeb03e5"
      },
      "execution_count": 192,
      "outputs": [
        {
          "output_type": "stream",
          "name": "stdout",
          "text": [
            "              precision    recall  f1-score   support\n",
            "\n",
            "         Car       1.00      1.00      1.00         2\n",
            "     Fashion       0.67      1.00      0.80         2\n",
            "      Health       1.00      0.33      0.50         3\n",
            "       Sport       0.75      1.00      0.86         3\n",
            "\n",
            "    accuracy                           0.80        10\n",
            "   macro avg       0.85      0.83      0.79        10\n",
            "weighted avg       0.86      0.80      0.77        10\n",
            "\n"
          ]
        }
      ]
    },
    {
      "cell_type": "code",
      "source": [
        "cnf_mat = confusion_matrix(y_test, predicted)\n",
        "\n",
        "fig, ax = plt.subplots(figsize=(10,5))\n",
        "fig = sns.heatmap(cnf_mat.T, square=True, annot=True, fmt='d', cmap='binary', cbar=False)\n",
        "\n",
        "plt.xlabel('Actual')\n",
        "ax.set_xticklabels(y_test, rotation=45)\n",
        "\n",
        "plt.ylabel('Predicted')\n",
        "ax.set_yticklabels(predicted, rotation=0)\n",
        "\n",
        "plt.title('Confusion Matrix')\n",
        "\n",
        "plt.show()"
      ],
      "metadata": {
        "colab": {
          "base_uri": "https://localhost:8080/",
          "height": 366
        },
        "id": "ni39Iy3qmmRM",
        "outputId": "80384ae5-c651-4d1e-9a22-356c35d2e61b"
      },
      "execution_count": 193,
      "outputs": [
        {
          "output_type": "display_data",
          "data": {
            "text/plain": [
              "<Figure size 720x360 with 1 Axes>"
            ],
            "image/png": "[encoded data removed]"
          },
          "metadata": {
            "needs_background": "light"
          }
        }
      ]
    }
  ]
}