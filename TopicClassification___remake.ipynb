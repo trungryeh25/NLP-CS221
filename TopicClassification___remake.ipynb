{
  "nbformat": 4,
  "nbformat_minor": 0,
  "metadata": {
    "colab": {
      "provenance": [],
      "collapsed_sections": [
        "hR8VMqpQRQ1a",
        "bYzE_nALHkO7",
        "BwEavl03Yend",
        "4RMvXRtJo_SJ",
        "4qTIcO_9l9Tt"
      ],
      "toc_visible": true,
      "mount_file_id": "1JD9hmTSr7CGyUfS8cnt7Hl2s-AguM74x",
      "authorship_tag": "ABX9TyMe2vmLvl4gyysd0tlHYbMI",
      "include_colab_link": true
    },
    "kernelspec": {
      "name": "python3",
      "display_name": "Python 3"
    },
    "language_info": {
      "name": "python"
    }
  },
  "cells": [
    {
      "cell_type": "markdown",
      "metadata": {
        "id": "view-in-github",
        "colab_type": "text"
      },
      "source": [
        "<a href=\"https://colab.research.google.com/github/trungtaos/NLP-CS221/blob/main/TopicClassification___remake.ipynb\" target=\"_parent\"><img src=\"https://colab.research.google.com/assets/colab-badge.svg\" alt=\"Open In Colab\"/></a>"
      ]
    },
    {
      "cell_type": "markdown",
      "source": [
        "# *Project -* **Topic Classification**\n",
        "*Subject -* Natural Language Processing "
      ],
      "metadata": {
        "id": "AqMeFBnmIFLu"
      }
    },
    {
      "cell_type": "markdown",
      "source": [
        "## Connect Drive"
      ],
      "metadata": {
        "id": "hR8VMqpQRQ1a"
      }
    },
    {
      "cell_type": "code",
      "source": [
        "from google.colab import drive\n",
        "drive.mount('/content/drive')"
      ],
      "metadata": {
        "id": "e_7wZEkRAyTl",
        "colab": {
          "base_uri": "https://localhost:8080/"
        },
        "outputId": "e3fb27ab-ac8e-4260-c747-8c7c011c9fa6"
      },
      "execution_count": null,
      "outputs": [
        {
          "output_type": "stream",
          "name": "stdout",
          "text": [
            "Drive already mounted at /content/drive; to attempt to forcibly remount, call drive.mount(\"/content/drive\", force_remount=True).\n"
          ]
        }
      ]
    },
    {
      "cell_type": "markdown",
      "source": [
        "## Count words"
      ],
      "metadata": {
        "id": "bYzE_nALHkO7"
      }
    },
    {
      "cell_type": "code",
      "source": [
        "import string\n",
        "import re\n",
        "import joblib\n"
      ],
      "metadata": {
        "id": "GNPi_yziDuMj"
      },
      "execution_count": null,
      "outputs": []
    },
    {
      "cell_type": "code",
      "execution_count": null,
      "metadata": {
        "id": "NoeM0l-3CchW"
      },
      "outputs": [],
      "source": [
        "str_ = \"Jiri missed a routine backhand in the ninth game and faced a break point. He saved it with a service winner and missed a game point that would cost him dearly. The Czech netted a forehand to face the second break point, and the American converted it after a beautiful rally that pushed him 5-4 in front. Fritz served for the victory in game ten and sealed the deal with an ace to earn the first victory of the new season.\""
      ]
    },
    {
      "cell_type": "code",
      "source": [
        "def process_text(text):\n",
        "    text = text.lower()\n",
        "    text = re.sub(\n",
        "        f\"[{re.escape(string.punctuation)}]\", \" \", text\n",
        "    )\n",
        "    text = \" \".join(text.split())\n",
        "    return text"
      ],
      "metadata": {
        "id": "gIVAzrLZGDMH"
      },
      "execution_count": null,
      "outputs": []
    },
    {
      "cell_type": "code",
      "source": [
        "str1 = process_text(str_)\n",
        "#str1"
      ],
      "metadata": {
        "id": "phsMXMbXGEZq"
      },
      "execution_count": null,
      "outputs": []
    },
    {
      "cell_type": "code",
      "source": [
        "str1 = str1.split()\n",
        "#str1"
      ],
      "metadata": {
        "id": "TWf9kuXvHE65"
      },
      "execution_count": null,
      "outputs": []
    },
    {
      "cell_type": "code",
      "source": [
        "c=0\n",
        "for i in str1:\n",
        "  c+=1;\n",
        "c"
      ],
      "metadata": {
        "colab": {
          "base_uri": "https://localhost:8080/"
        },
        "id": "-T0acaRgHQRj",
        "outputId": "d05836e1-c17f-4473-f708-93ea4ff6981b"
      },
      "execution_count": null,
      "outputs": [
        {
          "output_type": "execute_result",
          "data": {
            "text/plain": [
              "82"
            ]
          },
          "metadata": {},
          "execution_count": 334
        }
      ]
    },
    {
      "cell_type": "markdown",
      "source": [
        "## Import data"
      ],
      "metadata": {
        "id": "BwEavl03Yend"
      }
    },
    {
      "cell_type": "code",
      "source": [
        "import pandas as pd\n",
        "import numpy as np\n",
        "#%matplotlib ipympl\n",
        "\n",
        "import matplotlib.pyplot as plt"
      ],
      "metadata": {
        "id": "AAaaVotUYg6K"
      },
      "execution_count": null,
      "outputs": []
    },
    {
      "cell_type": "code",
      "source": [
        "df_train = pd.read_csv(\"/content/df_train.csv\")\n",
        "df_train = df_train[[\"Doc\", \"Categories\"]]\n",
        "df_train = df_train.dropna()\n",
        "#df_train\n",
        "\n",
        "df_test = pd.read_csv(\"/content/df_test.csv\")\n",
        "df_test = df_test[[\"Doc\", \"Categories\"]]\n",
        "df_test = df_test.dropna()\n"
      ],
      "metadata": {
        "id": "dpxcHx6sZSjH"
      },
      "execution_count": null,
      "outputs": []
    },
    {
      "cell_type": "code",
      "source": [
        "X_train = df_train[\"Doc\"]\n",
        "X_test = df_test[\"Doc\"]\n",
        "y_train = df_train[\"Categories\"]\n",
        "y_test = df_test[\"Categories\"]"
      ],
      "metadata": {
        "id": "I4qvE43XbRYm"
      },
      "execution_count": null,
      "outputs": []
    },
    {
      "cell_type": "code",
      "source": [
        "#X_train"
      ],
      "metadata": {
        "id": "FgXfnizyUUlN"
      },
      "execution_count": null,
      "outputs": []
    },
    {
      "cell_type": "code",
      "source": [
        "df_train['Categories'].value_counts()"
      ],
      "metadata": {
        "id": "cXsz6Fsty-yj",
        "outputId": "52bb7d8a-e612-43cd-9791-b6807dd465ab",
        "colab": {
          "base_uri": "https://localhost:8080/"
        }
      },
      "execution_count": null,
      "outputs": [
        {
          "output_type": "execute_result",
          "data": {
            "text/plain": [
              "Football      25\n",
              "Tennis        25\n",
              "Golf          25\n",
              "Basketball    25\n",
              "Name: Categories, dtype: int64"
            ]
          },
          "metadata": {},
          "execution_count": 7
        }
      ]
    },
    {
      "cell_type": "markdown",
      "source": [
        "## Clean data"
      ],
      "metadata": {
        "id": "1JlEOHibf1Og"
      }
    },
    {
      "cell_type": "code",
      "source": [
        "def process_text(text):\n",
        "    text = str(text).lower()\n",
        "    text = re.sub(\n",
        "        f\"[{re.escape(string.punctuation)}]\", \" \", text\n",
        "    )\n",
        "    text = \" \".join(text.split())\n",
        "    return text\n",
        "\n",
        "df_train[\"Doc\"] = df_train.Doc.map(process_text)\n",
        "df_test[\"Doc\"] = df_test.Doc.map(process_text)"
      ],
      "metadata": {
        "id": "GFja90I5f26R"
      },
      "execution_count": null,
      "outputs": []
    },
    {
      "cell_type": "markdown",
      "source": [
        "## Visualize Data"
      ],
      "metadata": {
        "id": "4RMvXRtJo_SJ"
      }
    },
    {
      "cell_type": "code",
      "source": [
        "\"\"\"\n",
        "targets_test, frequency_test = np.unique(df_train.Categories, return_counts=True)\n",
        "targets_test_str = ['Basketball', 'Football', 'Golf', 'Tennis']\n",
        "print(list(zip(targets_test_str, frequency_test)))\n",
        "\"\"\"\n",
        "\n",
        "targets_test, frequency_test = np.unique(df_test.Categories, return_counts=True)\n",
        "targets_test_str = ['Basketball', 'Football', 'Golf', 'Tennis']\n",
        "print(list(zip(targets_test_str, frequency_test)))\n",
        "\n"
      ],
      "metadata": {
        "colab": {
          "base_uri": "https://localhost:8080/"
        },
        "id": "EZxOsYL9pBi9",
        "outputId": "71420e9b-77b8-4180-edaf-01e41b8c778f"
      },
      "execution_count": null,
      "outputs": [
        {
          "output_type": "stream",
          "name": "stdout",
          "text": [
            "[('Basketball', 5), ('Football', 5), ('Golf', 5), ('Tennis', 5)]\n"
          ]
        }
      ]
    },
    {
      "cell_type": "code",
      "source": [
        "fig=plt.figure(figsize=(10, 5), dpi= 80, facecolor='w', edgecolor='k')\n",
        "plt.bar(targets_test_str,frequency_test)\n",
        "plt.xticks(rotation=90)\n",
        "plt.title('Class distribution of Data')\n",
        "plt.xlabel('Categories')\n",
        "plt.ylabel('Frequency')\n",
        "plt.show()"
      ],
      "metadata": {
        "colab": {
          "base_uri": "https://localhost:8080/",
          "height": 431
        },
        "id": "GZQxJHXQphbr",
        "outputId": "f718863c-c72a-49c7-a6fc-a6b66bcfa981"
      },
      "execution_count": null,
      "outputs": [
        {
          "output_type": "display_data",
          "data": {
            "text/plain": [
              "<Figure size 800x400 with 1 Axes>"
            ],
            "image/png": "[encoded data removed]"
          },
          "metadata": {}
        }
      ]
    },
    {
      "cell_type": "markdown",
      "source": [
        "## SVM Train, Test"
      ],
      "metadata": {
        "id": "4qTIcO_9l9Tt"
      }
    },
    {
      "cell_type": "code",
      "source": [
        "from sklearn.feature_extraction.text import TfidfVectorizer\n",
        "from sklearn.feature_extraction.text import TfidfTransformer\n",
        "from sklearn.feature_extraction.text import CountVectorizer\n",
        "import numpy as np\n",
        "from sklearn import metrics\n",
        "import seaborn as sns\n",
        "\n",
        "from sklearn.metrics import confusion_matrix\n",
        "import matplotlib.pyplot as plt\n",
        "\n",
        "from sklearn.pipeline import Pipeline\n",
        "from sklearn.svm import LinearSVC"
      ],
      "metadata": {
        "id": "K5ETyYhvbbSU"
      },
      "execution_count": null,
      "outputs": []
    },
    {
      "cell_type": "markdown",
      "source": [
        "### stop_words = 'english'"
      ],
      "metadata": {
        "id": "s5ebttKvS4nv"
      }
    },
    {
      "cell_type": "code",
      "source": [
        "text_clf = Pipeline([('vect', CountVectorizer(stop_words='english')),\n",
        "                     ('tfidf', TfidfTransformer()),\n",
        "                     ('clf', LinearSVC()),  \n",
        "                     ])\n",
        "text_clf.fit(X_train, y_train)\n",
        "predicted = text_clf.predict(X_test)\n",
        "print(metrics.classification_report(y_test, predicted))"
      ],
      "metadata": {
        "colab": {
          "base_uri": "https://localhost:8080/"
        },
        "id": "oW98TCiOmNDs",
        "outputId": "e7d5eb15-2d4a-4acb-fd1f-eab45a99acb0"
      },
      "execution_count": null,
      "outputs": [
        {
          "output_type": "stream",
          "name": "stdout",
          "text": [
            "              precision    recall  f1-score   support\n",
            "\n",
            "  Basketball       1.00      0.80      0.89         5\n",
            "    Football       0.83      1.00      0.91         5\n",
            "        Golf       1.00      1.00      1.00         5\n",
            "      Tennis       1.00      1.00      1.00         5\n",
            "\n",
            "    accuracy                           0.95        20\n",
            "   macro avg       0.96      0.95      0.95        20\n",
            "weighted avg       0.96      0.95      0.95        20\n",
            "\n"
          ]
        }
      ]
    },
    {
      "cell_type": "code",
      "source": [
        "print('Predicted: ', predicted)\n",
        "print('Actual: ', y_test)"
      ],
      "metadata": {
        "colab": {
          "base_uri": "https://localhost:8080/"
        },
        "id": "Vci7fsZfrXW3",
        "outputId": "9de62655-0c6a-48a1-cc06-edc921317b04"
      },
      "execution_count": null,
      "outputs": [
        {
          "output_type": "stream",
          "name": "stdout",
          "text": [
            "Predicted:  ['Football' 'Football' 'Football' 'Football' 'Football' 'Tennis' 'Tennis'\n",
            " 'Tennis' 'Tennis' 'Tennis' 'Golf' 'Golf' 'Golf' 'Golf' 'Golf' 'Football'\n",
            " 'Basketball' 'Basketball' 'Basketball' 'Basketball']\n",
            "Actual:  0       Football\n",
            "1       Football\n",
            "2       Football\n",
            "3       Football\n",
            "4       Football\n",
            "5         Tennis\n",
            "6         Tennis\n",
            "7         Tennis\n",
            "8         Tennis\n",
            "9         Tennis\n",
            "10          Golf\n",
            "11          Golf\n",
            "12          Golf\n",
            "13          Golf\n",
            "14          Golf\n",
            "15    Basketball\n",
            "16    Basketball\n",
            "17    Basketball\n",
            "18    Basketball\n",
            "19    Basketball\n",
            "Name: Categories, dtype: object\n"
          ]
        }
      ]
    },
    {
      "cell_type": "code",
      "source": [
        "names = ['Basketball', 'Football', 'Golf', 'Tennis']\n",
        "cnf_mat = confusion_matrix(y_test, predicted)\n",
        "\n",
        "fig, ax = plt.subplots(figsize=(10,5))\n",
        "fig = sns.heatmap(cnf_mat.T, square=True, annot=True, fmt='d', cmap='binary', cbar=False)\n",
        "\n",
        "plt.xlabel('Actual')\n",
        "ax.set_xticklabels(names, rotation=45)\n",
        "\n",
        "plt.ylabel('Predicted')\n",
        "ax.set_yticklabels(names, rotation=0)\n",
        "\n",
        "plt.title('Confusion Matrix')\n",
        "\n",
        "plt.show()"
      ],
      "metadata": {
        "colab": {
          "base_uri": "https://localhost:8080/",
          "height": 383
        },
        "id": "ni39Iy3qmmRM",
        "outputId": "4bc3b012-18aa-49cc-a6b8-f00cdd4bb4c7"
      },
      "execution_count": null,
      "outputs": [
        {
          "output_type": "display_data",
          "data": {
            "text/plain": [
              "<Figure size 720x360 with 1 Axes>"
            ],
            "image/png": "[encoded data removed]"
          },
          "metadata": {
            "needs_background": "light"
          }
        }
      ]
    },
    {
      "cell_type": "markdown",
      "source": [
        "### Non stop_words"
      ],
      "metadata": {
        "id": "8mtLfOldSxn_"
      }
    },
    {
      "cell_type": "code",
      "source": [
        "text_clf = Pipeline([('vect', CountVectorizer()),\n",
        "                     ('tfidf', TfidfTransformer()),\n",
        "                     ('clf', LinearSVC()),  \n",
        "                     ])\n",
        "text_clf.fit(X_train, y_train)\n",
        "predicted = text_clf.predict(X_test)\n",
        "print(metrics.classification_report(y_test, predicted))"
      ],
      "metadata": {
        "colab": {
          "base_uri": "https://localhost:8080/"
        },
        "id": "fHiJMlPtMOpt",
        "outputId": "17c063a9-a557-4e8f-9eb9-f864983aed98"
      },
      "execution_count": null,
      "outputs": [
        {
          "output_type": "stream",
          "name": "stdout",
          "text": [
            "              precision    recall  f1-score   support\n",
            "\n",
            "  Basketball       1.00      0.80      0.89         5\n",
            "    Football       0.71      1.00      0.83         5\n",
            "        Golf       1.00      1.00      1.00         5\n",
            "      Tennis       1.00      0.80      0.89         5\n",
            "\n",
            "    accuracy                           0.90        20\n",
            "   macro avg       0.93      0.90      0.90        20\n",
            "weighted avg       0.93      0.90      0.90        20\n",
            "\n"
          ]
        }
      ]
    },
    {
      "cell_type": "code",
      "source": [
        "print('Predicted: ', predicted)\n",
        "print('Actual: ', y_test)"
      ],
      "metadata": {
        "colab": {
          "base_uri": "https://localhost:8080/"
        },
        "id": "ZS3YcMvFMOxt",
        "outputId": "8c81fed1-5e16-4f62-9008-4d5f295ab84c"
      },
      "execution_count": null,
      "outputs": [
        {
          "output_type": "stream",
          "name": "stdout",
          "text": [
            "Predicted:  ['Football' 'Football' 'Football' 'Football' 'Football' 'Tennis' 'Tennis'\n",
            " 'Tennis' 'Tennis' 'Football' 'Golf' 'Golf' 'Golf' 'Golf' 'Golf'\n",
            " 'Basketball' 'Basketball' 'Football' 'Basketball' 'Basketball']\n",
            "Actual:  0       Football\n",
            "1       Football\n",
            "2       Football\n",
            "3       Football\n",
            "4       Football\n",
            "5         Tennis\n",
            "6         Tennis\n",
            "7         Tennis\n",
            "8         Tennis\n",
            "9         Tennis\n",
            "10          Golf\n",
            "11          Golf\n",
            "12          Golf\n",
            "13          Golf\n",
            "14          Golf\n",
            "15    Basketball\n",
            "16    Basketball\n",
            "17    Basketball\n",
            "18    Basketball\n",
            "19    Basketball\n",
            "Name: Categories, dtype: object\n"
          ]
        }
      ]
    },
    {
      "cell_type": "code",
      "source": [
        "names = ['Basketball', 'Football', 'Golf', 'Tennis']\n",
        "cnf_mat = confusion_matrix(y_test, predicted)\n",
        "\n",
        "fig, ax = plt.subplots(figsize=(10,5))\n",
        "fig = sns.heatmap(cnf_mat.T, square=True, annot=True, fmt='d', cmap='binary', cbar=False)\n",
        "\n",
        "plt.xlabel('Actual')\n",
        "ax.set_xticklabels(names, rotation=45)\n",
        "\n",
        "plt.ylabel('Predicted')\n",
        "ax.set_yticklabels(names, rotation=0)\n",
        "\n",
        "plt.title('Confusion Matrix')\n",
        "\n",
        "plt.show()"
      ],
      "metadata": {
        "colab": {
          "base_uri": "https://localhost:8080/",
          "height": 383
        },
        "id": "j2Y8A-ZOMO6Q",
        "outputId": "4c6a43ae-b910-4040-d20a-4f0df2b424a6"
      },
      "execution_count": null,
      "outputs": [
        {
          "output_type": "display_data",
          "data": {
            "text/plain": [
              "<Figure size 720x360 with 1 Axes>"
            ],
            "image/png": "[encoded data removed]"
          },
          "metadata": {
            "needs_background": "light"
          }
        }
      ]
    },
    {
      "cell_type": "code",
      "source": [
        "text_clf = Pipeline([('vect', CountVectorizer()),\n",
        "                     ('clf', LinearSVC()),  \n",
        "                     ])\n",
        "text_clf.fit(X_train, y_train)\n",
        "predicted = text_clf.predict(X_test)\n",
        "print(metrics.classification_report(y_test, predicted))"
      ],
      "metadata": {
        "colab": {
          "base_uri": "https://localhost:8080/"
        },
        "id": "3b3pMaanbFnh",
        "outputId": "e13c1bd2-21df-441b-ae9e-12407b38be73"
      },
      "execution_count": null,
      "outputs": [
        {
          "output_type": "stream",
          "name": "stdout",
          "text": [
            "              precision    recall  f1-score   support\n",
            "\n",
            "  Basketball       0.75      0.60      0.67         5\n",
            "    Football       0.56      1.00      0.71         5\n",
            "        Golf       1.00      0.40      0.57         5\n",
            "      Tennis       0.80      0.80      0.80         5\n",
            "\n",
            "    accuracy                           0.70        20\n",
            "   macro avg       0.78      0.70      0.69        20\n",
            "weighted avg       0.78      0.70      0.69        20\n",
            "\n"
          ]
        },
        {
          "output_type": "stream",
          "name": "stderr",
          "text": [
            "/usr/local/lib/python3.8/dist-packages/sklearn/svm/_base.py:1206: ConvergenceWarning: Liblinear failed to converge, increase the number of iterations.\n",
            "  warnings.warn(\n"
          ]
        }
      ]
    },
    {
      "cell_type": "code",
      "source": [
        "names = ['Basketball', 'Football', 'Golf', 'Tennis']\n",
        "cnf_mat = confusion_matrix(y_test, predicted)\n",
        "\n",
        "fig, ax = plt.subplots(figsize=(10,5))\n",
        "fig = sns.heatmap(cnf_mat.T, square=True, annot=True, fmt='d', cmap='binary', cbar=False)\n",
        "\n",
        "plt.xlabel('Actual')\n",
        "ax.set_xticklabels(names, rotation=45)\n",
        "\n",
        "plt.ylabel('Predicted')\n",
        "ax.set_yticklabels(names, rotation=0)\n",
        "\n",
        "plt.title('Confusion Matrix')\n",
        "\n",
        "plt.show()"
      ],
      "metadata": {
        "colab": {
          "base_uri": "https://localhost:8080/",
          "height": 383
        },
        "id": "QEq5nJgCbFx5",
        "outputId": "c53322bf-dd1a-415b-8bd9-21fefbd40b66"
      },
      "execution_count": null,
      "outputs": [
        {
          "output_type": "display_data",
          "data": {
            "text/plain": [
              "<Figure size 720x360 with 1 Axes>"
            ],
            "image/png": "[encoded data removed]"
          },
          "metadata": {
            "needs_background": "light"
          }
        }
      ]
    },
    {
      "cell_type": "code",
      "source": [
        "text_clf = Pipeline([('vect', CountVectorizer(stop_words='english')),\n",
        "                     ('clf', LinearSVC()),  \n",
        "                     ])\n",
        "text_clf.fit(X_train, y_train)\n",
        "predicted = text_clf.predict(X_test)\n",
        "print(metrics.classification_report(y_test, predicted))"
      ],
      "metadata": {
        "colab": {
          "base_uri": "https://localhost:8080/"
        },
        "id": "euSj6sunbF0s",
        "outputId": "e1ace1a8-4de2-4c56-9413-6dca63424497"
      },
      "execution_count": null,
      "outputs": [
        {
          "output_type": "stream",
          "name": "stdout",
          "text": [
            "              precision    recall  f1-score   support\n",
            "\n",
            "  Basketball       1.00      0.60      0.75         5\n",
            "    Football       0.83      1.00      0.91         5\n",
            "        Golf       1.00      1.00      1.00         5\n",
            "      Tennis       0.83      1.00      0.91         5\n",
            "\n",
            "    accuracy                           0.90        20\n",
            "   macro avg       0.92      0.90      0.89        20\n",
            "weighted avg       0.92      0.90      0.89        20\n",
            "\n"
          ]
        }
      ]
    },
    {
      "cell_type": "code",
      "source": [
        "names = ['Basketball', 'Football', 'Golf', 'Tennis']\n",
        "cnf_mat = confusion_matrix(y_test, predicted)\n",
        "\n",
        "fig, ax = plt.subplots(figsize=(10,5))\n",
        "fig = sns.heatmap(cnf_mat.T, square=True, annot=True, fmt='d', cmap='binary', cbar=False)\n",
        "\n",
        "plt.xlabel('Actual')\n",
        "ax.set_xticklabels(names, rotation=45)\n",
        "\n",
        "plt.ylabel('Predicted')\n",
        "ax.set_yticklabels(names, rotation=0)\n",
        "\n",
        "plt.title('Confusion Matrix')\n",
        "\n",
        "plt.show()"
      ],
      "metadata": {
        "colab": {
          "base_uri": "https://localhost:8080/",
          "height": 383
        },
        "id": "Fv30w2pVbTA_",
        "outputId": "ed7a8995-f7c6-4f1d-9447-b0a57f5b7742"
      },
      "execution_count": null,
      "outputs": [
        {
          "output_type": "display_data",
          "data": {
            "text/plain": [
              "<Figure size 720x360 with 1 Axes>"
            ],
            "image/png": "[encoded data removed]"
          },
          "metadata": {
            "needs_background": "light"
          }
        }
      ]
    },
    {
      "cell_type": "markdown",
      "source": [
        "## Classification with NLP (Porter_Stem, Lemma)"
      ],
      "metadata": {
        "id": "GLPSdTvQQWhS"
      }
    },
    {
      "cell_type": "code",
      "source": [
        "# tách từ + stop_words + chuyển về từ gốc (lemma...)  + "
      ],
      "metadata": {
        "id": "OYRMUC-bJOw_"
      },
      "execution_count": null,
      "outputs": []
    },
    {
      "cell_type": "markdown",
      "source": [
        "### Stemming & Lemmatizer"
      ],
      "metadata": {
        "id": "4gFzUQiaxT68"
      }
    },
    {
      "cell_type": "code",
      "source": [
        "# Chuyen tu goc Lemmatizer\n",
        "# import these modules\n",
        "import nltk\n",
        "nltk.download('punkt')\n",
        "from nltk.stem import PorterStemmer\n",
        "from nltk.tokenize import sent_tokenize, word_tokenize\n",
        "nltk.download('wordnet')\n",
        "from nltk.stem import WordNetLemmatizer\n",
        "nltk.download('omw-1.4')"
      ],
      "metadata": {
        "id": "UnM5zFW4OL6T",
        "colab": {
          "base_uri": "https://localhost:8080/"
        },
        "outputId": "f172ac8f-e245-4097-b706-0b0323c0f2ce"
      },
      "execution_count": null,
      "outputs": [
        {
          "output_type": "stream",
          "name": "stderr",
          "text": [
            "[nltk_data] Downloading package punkt to /root/nltk_data...\n",
            "[nltk_data]   Unzipping tokenizers/punkt.zip.\n",
            "[nltk_data] Downloading package wordnet to /root/nltk_data...\n",
            "[nltk_data] Downloading package omw-1.4 to /root/nltk_data...\n"
          ]
        },
        {
          "output_type": "execute_result",
          "data": {
            "text/plain": [
              "True"
            ]
          },
          "metadata": {},
          "execution_count": 6
        }
      ]
    },
    {
      "cell_type": "code",
      "source": [
        "#tokenizer= word_tokenize() #if you want to split text into word tokens\n",
        "lemmatizer = WordNetLemmatizer()"
      ],
      "metadata": {
        "id": "_Y8cLk_2JJBW"
      },
      "execution_count": null,
      "outputs": []
    },
    {
      "cell_type": "code",
      "source": [
        "def tokenizer(text):\n",
        "  tokens = word_tokenize(text)\n",
        "  tokens = [token.strip() for token in tokens]\n",
        "  return tokens"
      ],
      "metadata": {
        "id": "OTa3AVBxLaN1"
      },
      "execution_count": null,
      "outputs": []
    },
    {
      "cell_type": "code",
      "source": [
        "tokens = df_train['Doc'].apply(tokenizer)"
      ],
      "metadata": {
        "id": "HwSBE-O3M9zZ"
      },
      "execution_count": null,
      "outputs": []
    },
    {
      "cell_type": "code",
      "source": [
        "#tokens"
      ],
      "metadata": {
        "id": "r47sHHcBNL1T"
      },
      "execution_count": null,
      "outputs": []
    },
    {
      "cell_type": "code",
      "source": [
        "df_train = pd.read_csv(\"/content/df_train.csv\")\n",
        "df_train = df_train[[\"Doc\", \"Categories\"]]\n",
        "df_train = df_train.dropna()\n",
        "#df_train\n",
        "\n",
        "df_test = pd.read_csv(\"/content/df_test.csv\")\n",
        "df_test = df_test[[\"Doc\", \"Categories\"]]\n",
        "df_test = df_test.dropna()"
      ],
      "metadata": {
        "id": "sRmlNvLqiuVY"
      },
      "execution_count": null,
      "outputs": []
    },
    {
      "cell_type": "code",
      "source": [
        "def porter_stemmer(text):\n",
        "  ps = nltk.porter.PorterStemmer()\n",
        "  text= ' '.join([ps.stem(word) for word in text.split()])\n",
        "  return text\n",
        "\n",
        "  "
      ],
      "metadata": {
        "id": "-IsjZ5DhMGD4"
      },
      "execution_count": null,
      "outputs": []
    },
    {
      "cell_type": "code",
      "source": [
        "def lemmatization(text):\n",
        "  \"\"\"\n",
        "  tokens = word_tokenize(text)\n",
        "  tokens = [token.strip() for token in tokens]\n",
        "  lemmatized_string = ' '.join([lemmatizer.lemmatize(token) for token in tokens])\n",
        "  \"\"\"\n",
        "  lemmatized_string = ' '.join([lemmatizer.lemmatize(word) for word in text.split()])\n",
        "  return lemmatized_string"
      ],
      "metadata": {
        "id": "681oSrAlVB7t"
      },
      "execution_count": null,
      "outputs": []
    },
    {
      "cell_type": "code",
      "source": [
        "# Apply \n",
        "df_train['Stem'] = df_train['Doc'].apply(porter_stemmer)\n",
        "df_test['Stem'] = df_test['Doc'].apply(porter_stemmer)\n",
        "df_train['Lemma'] = df_train['Doc'].apply(lemmatization)\n",
        "df_test['Lemma'] = df_test['Doc'].apply(lemmatization)"
      ],
      "metadata": {
        "id": "CPi2Q7DodZsG"
      },
      "execution_count": null,
      "outputs": []
    },
    {
      "cell_type": "code",
      "source": [
        "df_train"
      ],
      "metadata": {
        "colab": {
          "base_uri": "https://localhost:8080/",
          "height": 424
        },
        "id": "dsjhcPlbLEXe",
        "outputId": "a97ebdc2-9602-419a-f97f-e990793f0d51"
      },
      "execution_count": null,
      "outputs": [
        {
          "output_type": "execute_result",
          "data": {
            "text/plain": [
              "                                                  Doc  Categories  \\\n",
              "0   Palace leave the pitch to moans and groans fro...    Football   \n",
              "1   Mitchell takes a bad touch and tries to make u...    Football   \n",
              "2   It was a very un-Kane performance on his retur...    Football   \n",
              "3   After every game we do sessions, even during t...    Football   \n",
              "4   It had been 45 days since both sides were in P...    Football   \n",
              "..                                                ...         ...   \n",
              "95  Do not be fooled by their positioning in our s...  Basketball   \n",
              "96  Jamal Murray scored 26 points and Kentavious C...  Basketball   \n",
              "97  You will be hard-pressed to find someone who w...  Basketball   \n",
              "98  The Cleveland Cavaliers were on a five-game wi...  Basketball   \n",
              "99  I'm Nathan, I'm a stand-up comedian and a Toro...  Basketball   \n",
              "\n",
              "                                                 Stem  \\\n",
              "0   palac leav the pitch to moan and groan from th...   \n",
              "1   mitchel take a bad touch and tri to make up fo...   \n",
              "2   it wa a veri un-kan perform on hi return to cl...   \n",
              "3   after everi game we do sessions, even dure the...   \n",
              "4   it had been 45 day sinc both side were in prem...   \n",
              "..                                                ...   \n",
              "95  do not be fool by their posit in our standings...   \n",
              "96  jamal murray score 26 point and kentavi caldwe...   \n",
              "97  you will be hard-press to find someon who work...   \n",
              "98  the cleveland cavali were on a five-gam win st...   \n",
              "99  i'm nathan, i'm a stand-up comedian and a toro...   \n",
              "\n",
              "                                                Lemma  \n",
              "0   Palace leave the pitch to moan and groan from ...  \n",
              "1   Mitchell take a bad touch and try to make up f...  \n",
              "2   It wa a very un-Kane performance on his return...  \n",
              "3   After every game we do sessions, even during t...  \n",
              "4   It had been 45 day since both side were in Pre...  \n",
              "..                                                ...  \n",
              "95  Do not be fooled by their positioning in our s...  \n",
              "96  Jamal Murray scored 26 point and Kentavious Ca...  \n",
              "97  You will be hard-pressed to find someone who w...  \n",
              "98  The Cleveland Cavaliers were on a five-game wi...  \n",
              "99  I'm Nathan, I'm a stand-up comedian and a Toro...  \n",
              "\n",
              "[100 rows x 4 columns]"
            ],
            "text/html": [
              "\n",
              "  <div id=\"df-9435cc5a-6b9a-45d7-b06b-e54f5f503d33\">\n",
              "    <div class=\"colab-df-container\">\n",
              "      <div>\n",
              "<style scoped>\n",
              "    .dataframe tbody tr th:only-of-type {\n",
              "        vertical-align: middle;\n",
              "    }\n",
              "\n",
              "    .dataframe tbody tr th {\n",
              "        vertical-align: top;\n",
              "    }\n",
              "\n",
              "    .dataframe thead th {\n",
              "        text-align: right;\n",
              "    }\n",
              "</style>\n",
              "<table border=\"1\" class=\"dataframe\">\n",
              "  <thead>\n",
              "    <tr style=\"text-align: right;\">\n",
              "      <th></th>\n",
              "      <th>Doc</th>\n",
              "      <th>Categories</th>\n",
              "      <th>Stem</th>\n",
              "      <th>Lemma</th>\n",
              "    </tr>\n",
              "  </thead>\n",
              "  <tbody>\n",
              "    <tr>\n",
              "      <th>0</th>\n",
              "      <td>Palace leave the pitch to moans and groans fro...</td>\n",
              "      <td>Football</td>\n",
              "      <td>palac leav the pitch to moan and groan from th...</td>\n",
              "      <td>Palace leave the pitch to moan and groan from ...</td>\n",
              "    </tr>\n",
              "    <tr>\n",
              "      <th>1</th>\n",
              "      <td>Mitchell takes a bad touch and tries to make u...</td>\n",
              "      <td>Football</td>\n",
              "      <td>mitchel take a bad touch and tri to make up fo...</td>\n",
              "      <td>Mitchell take a bad touch and try to make up f...</td>\n",
              "    </tr>\n",
              "    <tr>\n",
              "      <th>2</th>\n",
              "      <td>It was a very un-Kane performance on his retur...</td>\n",
              "      <td>Football</td>\n",
              "      <td>it wa a veri un-kan perform on hi return to cl...</td>\n",
              "      <td>It wa a very un-Kane performance on his return...</td>\n",
              "    </tr>\n",
              "    <tr>\n",
              "      <th>3</th>\n",
              "      <td>After every game we do sessions, even during t...</td>\n",
              "      <td>Football</td>\n",
              "      <td>after everi game we do sessions, even dure the...</td>\n",
              "      <td>After every game we do sessions, even during t...</td>\n",
              "    </tr>\n",
              "    <tr>\n",
              "      <th>4</th>\n",
              "      <td>It had been 45 days since both sides were in P...</td>\n",
              "      <td>Football</td>\n",
              "      <td>it had been 45 day sinc both side were in prem...</td>\n",
              "      <td>It had been 45 day since both side were in Pre...</td>\n",
              "    </tr>\n",
              "    <tr>\n",
              "      <th>...</th>\n",
              "      <td>...</td>\n",
              "      <td>...</td>\n",
              "      <td>...</td>\n",
              "      <td>...</td>\n",
              "    </tr>\n",
              "    <tr>\n",
              "      <th>95</th>\n",
              "      <td>Do not be fooled by their positioning in our s...</td>\n",
              "      <td>Basketball</td>\n",
              "      <td>do not be fool by their posit in our standings...</td>\n",
              "      <td>Do not be fooled by their positioning in our s...</td>\n",
              "    </tr>\n",
              "    <tr>\n",
              "      <th>96</th>\n",
              "      <td>Jamal Murray scored 26 points and Kentavious C...</td>\n",
              "      <td>Basketball</td>\n",
              "      <td>jamal murray score 26 point and kentavi caldwe...</td>\n",
              "      <td>Jamal Murray scored 26 point and Kentavious Ca...</td>\n",
              "    </tr>\n",
              "    <tr>\n",
              "      <th>97</th>\n",
              "      <td>You will be hard-pressed to find someone who w...</td>\n",
              "      <td>Basketball</td>\n",
              "      <td>you will be hard-press to find someon who work...</td>\n",
              "      <td>You will be hard-pressed to find someone who w...</td>\n",
              "    </tr>\n",
              "    <tr>\n",
              "      <th>98</th>\n",
              "      <td>The Cleveland Cavaliers were on a five-game wi...</td>\n",
              "      <td>Basketball</td>\n",
              "      <td>the cleveland cavali were on a five-gam win st...</td>\n",
              "      <td>The Cleveland Cavaliers were on a five-game wi...</td>\n",
              "    </tr>\n",
              "    <tr>\n",
              "      <th>99</th>\n",
              "      <td>I'm Nathan, I'm a stand-up comedian and a Toro...</td>\n",
              "      <td>Basketball</td>\n",
              "      <td>i'm nathan, i'm a stand-up comedian and a toro...</td>\n",
              "      <td>I'm Nathan, I'm a stand-up comedian and a Toro...</td>\n",
              "    </tr>\n",
              "  </tbody>\n",
              "</table>\n",
              "<p>100 rows × 4 columns</p>\n",
              "</div>\n",
              "      <button class=\"colab-df-convert\" onclick=\"convertToInteractive('df-9435cc5a-6b9a-45d7-b06b-e54f5f503d33')\"\n",
              "              title=\"Convert this dataframe to an interactive table.\"\n",
              "              style=\"display:none;\">\n",
              "        \n",
              "  <svg xmlns=\"http://www.w3.org/2000/svg\" height=\"24px\"viewBox=\"0 0 24 24\"\n",
              "       width=\"24px\">\n",
              "    <path d=\"M0 0h24v24H0V0z\" fill=\"none\"/>\n",
              "    <path d=\"M18.56 5.44l.94 2.06.94-2.06 2.06-.94-2.06-.94-.94-2.06-.94 2.06-2.06.94zm-11 1L8.5 8.5l.94-2.06 2.06-.94-2.06-.94L8.5 2.5l-.94 2.06-2.06.94zm10 10l.94 2.06.94-2.06 2.06-.94-2.06-.94-.94-2.06-.94 2.06-2.06.94z\"/><path d=\"M17.41 7.96l-1.37-1.37c-.4-.4-.92-.59-1.43-.59-.52 0-1.04.2-1.43.59L10.3 9.45l-7.72 7.72c-.78.78-.78 2.05 0 2.83L4 21.41c.39.39.9.59 1.41.59.51 0 1.02-.2 1.41-.59l7.78-7.78 2.81-2.81c.8-.78.8-2.07 0-2.86zM5.41 20L4 18.59l7.72-7.72 1.47 1.35L5.41 20z\"/>\n",
              "  </svg>\n",
              "      </button>\n",
              "      \n",
              "  <style>\n",
              "    .colab-df-container {\n",
              "      display:flex;\n",
              "      flex-wrap:wrap;\n",
              "      gap: 12px;\n",
              "    }\n",
              "\n",
              "    .colab-df-convert {\n",
              "      background-color: #E8F0FE;\n",
              "      border: none;\n",
              "      border-radius: 50%;\n",
              "      cursor: pointer;\n",
              "      display: none;\n",
              "      fill: #1967D2;\n",
              "      height: 32px;\n",
              "      padding: 0 0 0 0;\n",
              "      width: 32px;\n",
              "    }\n",
              "\n",
              "    .colab-df-convert:hover {\n",
              "      background-color: #E2EBFA;\n",
              "      box-shadow: 0px 1px 2px rgba(60, 64, 67, 0.3), 0px 1px 3px 1px rgba(60, 64, 67, 0.15);\n",
              "      fill: #174EA6;\n",
              "    }\n",
              "\n",
              "    [theme=dark] .colab-df-convert {\n",
              "      background-color: #3B4455;\n",
              "      fill: #D2E3FC;\n",
              "    }\n",
              "\n",
              "    [theme=dark] .colab-df-convert:hover {\n",
              "      background-color: #434B5C;\n",
              "      box-shadow: 0px 1px 3px 1px rgba(0, 0, 0, 0.15);\n",
              "      filter: drop-shadow(0px 1px 2px rgba(0, 0, 0, 0.3));\n",
              "      fill: #FFFFFF;\n",
              "    }\n",
              "  </style>\n",
              "\n",
              "      <script>\n",
              "        const buttonEl =\n",
              "          document.querySelector('#df-9435cc5a-6b9a-45d7-b06b-e54f5f503d33 button.colab-df-convert');\n",
              "        buttonEl.style.display =\n",
              "          google.colab.kernel.accessAllowed ? 'block' : 'none';\n",
              "\n",
              "        async function convertToInteractive(key) {\n",
              "          const element = document.querySelector('#df-9435cc5a-6b9a-45d7-b06b-e54f5f503d33');\n",
              "          const dataTable =\n",
              "            await google.colab.kernel.invokeFunction('convertToInteractive',\n",
              "                                                     [key], {});\n",
              "          if (!dataTable) return;\n",
              "\n",
              "          const docLinkHtml = 'Like what you see? Visit the ' +\n",
              "            '<a target=\"_blank\" href=https://colab.research.google.com/notebooks/data_table.ipynb>data table notebook</a>'\n",
              "            + ' to learn more about interactive tables.';\n",
              "          element.innerHTML = '';\n",
              "          dataTable['output_type'] = 'display_data';\n",
              "          await google.colab.output.renderOutput(dataTable, element);\n",
              "          const docLink = document.createElement('div');\n",
              "          docLink.innerHTML = docLinkHtml;\n",
              "          element.appendChild(docLink);\n",
              "        }\n",
              "      </script>\n",
              "    </div>\n",
              "  </div>\n",
              "  "
            ]
          },
          "metadata": {},
          "execution_count": 12
        }
      ]
    },
    {
      "cell_type": "markdown",
      "source": [
        "### Porter_Stemming"
      ],
      "metadata": {
        "id": "a56nse_sKMuB"
      }
    },
    {
      "cell_type": "code",
      "source": [
        "X_train_s = df_train['Stem']\n",
        "y_train_s = df_train['Categories']\n",
        "X_test_s = df_test['Stem']\n",
        "y_test_s = df_test['Categories']"
      ],
      "metadata": {
        "id": "Nx1YGho4KSxF"
      },
      "execution_count": null,
      "outputs": []
    },
    {
      "cell_type": "code",
      "source": [
        "text_clf = Pipeline([('vect', CountVectorizer(stop_words='english')),\n",
        "                     ('tfidf', TfidfTransformer()),\n",
        "                     ('clf', LinearSVC()),  \n",
        "                     ])\n",
        "text_clf.fit(X_train_s, y_train_s)\n",
        "predicted_s = text_clf.predict(X_test_s)\n",
        "print(metrics.classification_report(y_test_s, predicted_s))"
      ],
      "metadata": {
        "colab": {
          "base_uri": "https://localhost:8080/"
        },
        "id": "sILWo4PnKTgX",
        "outputId": "a4b6fa89-1b41-4402-c413-f83ff2d4c20b"
      },
      "execution_count": null,
      "outputs": [
        {
          "output_type": "stream",
          "name": "stdout",
          "text": [
            "              precision    recall  f1-score   support\n",
            "\n",
            "  Basketball       1.00      0.80      0.89         5\n",
            "    Football       0.83      1.00      0.91         5\n",
            "        Golf       0.83      1.00      0.91         5\n",
            "      Tennis       1.00      0.80      0.89         5\n",
            "\n",
            "    accuracy                           0.90        20\n",
            "   macro avg       0.92      0.90      0.90        20\n",
            "weighted avg       0.92      0.90      0.90        20\n",
            "\n"
          ]
        }
      ]
    },
    {
      "cell_type": "markdown",
      "source": [
        "### Lemma"
      ],
      "metadata": {
        "id": "DYOAz3jsKQeg"
      }
    },
    {
      "cell_type": "code",
      "source": [
        "X_train_l = df_train['Lemma']\n",
        "y_train_l = df_train['Categories']\n",
        "X_test_l = df_test['Lemma']\n",
        "y_test_l = df_test['Categories']"
      ],
      "metadata": {
        "id": "HnEdFF_dOMKK"
      },
      "execution_count": null,
      "outputs": []
    },
    {
      "cell_type": "code",
      "source": [
        "#predicted"
      ],
      "metadata": {
        "id": "X7VB7Aj1EzIX"
      },
      "execution_count": null,
      "outputs": []
    },
    {
      "cell_type": "code",
      "source": [
        "text_clf = Pipeline([('vect', CountVectorizer(stop_words='english')),\n",
        "                     ('tfidf', TfidfTransformer()),\n",
        "                     ('clf', LinearSVC()),  \n",
        "                     ])\n",
        "text_clf.fit(X_train_l, y_train_l)\n",
        "predicted_l = text_clf.predict(X_test_l)\n",
        "print(metrics.classification_report(y_test_l, predicted_l))"
      ],
      "metadata": {
        "colab": {
          "base_uri": "https://localhost:8080/"
        },
        "id": "SiYgU_KSEpGI",
        "outputId": "ba3a614d-d158-4daa-e320-6b34e4c8b87f"
      },
      "execution_count": null,
      "outputs": [
        {
          "output_type": "stream",
          "name": "stdout",
          "text": [
            "              precision    recall  f1-score   support\n",
            "\n",
            "  Basketball       1.00      0.80      0.89         5\n",
            "    Football       0.71      1.00      0.83         5\n",
            "        Golf       1.00      0.80      0.89         5\n",
            "      Tennis       1.00      1.00      1.00         5\n",
            "\n",
            "    accuracy                           0.90        20\n",
            "   macro avg       0.93      0.90      0.90        20\n",
            "weighted avg       0.93      0.90      0.90        20\n",
            "\n"
          ]
        }
      ]
    },
    {
      "cell_type": "markdown",
      "source": [
        "## Desribe NLP"
      ],
      "metadata": {
        "id": "gB4LIb1AMd-X"
      }
    },
    {
      "cell_type": "markdown",
      "source": [
        "### Libs"
      ],
      "metadata": {
        "id": "gRDTs0HmQmYY"
      }
    },
    {
      "cell_type": "code",
      "source": [
        "# Chuyen tu goc Lemmatizer\n",
        "# import these modules\n",
        "import nltk\n",
        "nltk.download('punkt')\n",
        "from nltk.stem import PorterStemmer\n",
        "from nltk.tokenize import sent_tokenize, word_tokenize\n",
        "nltk.download('wordnet')\n",
        "from nltk.stem import WordNetLemmatizer\n",
        "nltk.download('omw-1.4')"
      ],
      "metadata": {
        "colab": {
          "base_uri": "https://localhost:8080/"
        },
        "id": "lRb6oYAHNXcd",
        "outputId": "33fe7699-80a7-447f-dd13-b2425872d80e"
      },
      "execution_count": null,
      "outputs": [
        {
          "output_type": "stream",
          "name": "stderr",
          "text": [
            "[nltk_data] Downloading package punkt to /root/nltk_data...\n",
            "[nltk_data]   Package punkt is already up-to-date!\n",
            "[nltk_data] Downloading package wordnet to /root/nltk_data...\n",
            "[nltk_data]   Package wordnet is already up-to-date!\n",
            "[nltk_data] Downloading package omw-1.4 to /root/nltk_data...\n",
            "[nltk_data]   Package omw-1.4 is already up-to-date!\n"
          ]
        },
        {
          "output_type": "execute_result",
          "data": {
            "text/plain": [
              "True"
            ]
          },
          "metadata": {},
          "execution_count": 39
        }
      ]
    },
    {
      "cell_type": "code",
      "source": [
        "df_train = pd.read_csv(\"/content/df_train.csv\")\n",
        "df_train = df_train[[\"Doc\", \"Categories\"]]\n",
        "df_train = df_train.dropna()\n",
        "#df_train\n",
        "\n",
        "df_test = pd.read_csv(\"/content/df_test.csv\")\n",
        "df_test = df_test[[\"Doc\", \"Categories\"]]\n",
        "df_test = df_test.dropna()"
      ],
      "metadata": {
        "id": "Dk_jNRFCMkG9"
      },
      "execution_count": null,
      "outputs": []
    },
    {
      "cell_type": "code",
      "source": [
        "train = df_train[['Doc', 'Categories']]\n",
        "test = df_test[['Doc', 'Categories']]"
      ],
      "metadata": {
        "id": "3VH2xOa1MuFR"
      },
      "execution_count": null,
      "outputs": []
    },
    {
      "cell_type": "code",
      "source": [
        "ps = nltk.porter.PorterStemmer()\n",
        "def trans_stem(text):\n",
        "  text= ' '.join([ps.stem(word) for word in text.split()])\n",
        "  return text"
      ],
      "metadata": {
        "id": "jLZtD-11M8qh"
      },
      "execution_count": null,
      "outputs": []
    },
    {
      "cell_type": "markdown",
      "source": [
        "#### WordNetLemmatizer"
      ],
      "metadata": {
        "id": "Zzon4a1fN_fB"
      }
    },
    {
      "cell_type": "code",
      "source": [
        "lemmatizer = WordNetLemmatizer()\n",
        "def lemmatization(text):\n",
        "  lemmatized_string = ' '.join([lemmatizer.lemmatize(word) for word in text.split()])\n",
        "  return lemmatized_string"
      ],
      "metadata": {
        "id": "-BD6eXgONj30"
      },
      "execution_count": null,
      "outputs": []
    },
    {
      "cell_type": "code",
      "source": [
        "token = train['Doc'][0].split()"
      ],
      "metadata": {
        "id": "APaywwZfN7Wp"
      },
      "execution_count": null,
      "outputs": []
    },
    {
      "cell_type": "code",
      "source": [
        "#token"
      ],
      "metadata": {
        "id": "Ikfkil4kPHhu"
      },
      "execution_count": null,
      "outputs": []
    },
    {
      "cell_type": "code",
      "source": [
        "lemma = [lemmatizer.lemmatize(word) for word in token]"
      ],
      "metadata": {
        "id": "JdQO1LcyPKVB"
      },
      "execution_count": null,
      "outputs": []
    },
    {
      "cell_type": "markdown",
      "source": [
        "### No libs"
      ],
      "metadata": {
        "id": "liwVHJBbQo3B"
      }
    },
    {
      "cell_type": "code",
      "source": [
        "import nltk\n",
        "nltk.download('wordnet')\n",
        "from nltk.stem import WordNetLemmatizer"
      ],
      "metadata": {
        "colab": {
          "base_uri": "https://localhost:8080/"
        },
        "id": "6hBQYP2cVr6V",
        "outputId": "46c4f74a-cf2b-45b4-d435-9b48bcc2c222"
      },
      "execution_count": null,
      "outputs": [
        {
          "output_type": "stream",
          "name": "stderr",
          "text": [
            "[nltk_data] Downloading package wordnet to /root/nltk_data...\n",
            "[nltk_data]   Package wordnet is already up-to-date!\n"
          ]
        }
      ]
    },
    {
      "cell_type": "code",
      "source": [
        "df_train = pd.read_csv(\"/content/df_train.csv\")\n",
        "df_train = df_train[[\"Doc\", \"Categories\"]]\n",
        "df_train = df_train.dropna()\n",
        "#df_train\n",
        "\n",
        "df_test = pd.read_csv(\"/content/df_test.csv\")\n",
        "df_test = df_test[[\"Doc\", \"Categories\"]]\n",
        "df_test = df_test.dropna()"
      ],
      "metadata": {
        "id": "TtF9DHPyQv3O"
      },
      "execution_count": null,
      "outputs": []
    },
    {
      "cell_type": "code",
      "source": [
        "!pip install openfst-python"
      ],
      "metadata": {
        "colab": {
          "base_uri": "https://localhost:8080/"
        },
        "id": "US_Lhq8tQx0B",
        "outputId": "678a62c2-a73f-49b2-8b20-3b467766e22a"
      },
      "execution_count": null,
      "outputs": [
        {
          "output_type": "stream",
          "name": "stdout",
          "text": [
            "Looking in indexes: https://pypi.org/simple, https://us-python.pkg.dev/colab-wheels/public/simple/\n",
            "Collecting openfst-python\n",
            "  Downloading openfst_python-1.7.2.tar.gz (11 kB)\n",
            "Building wheels for collected packages: openfst-python\n",
            "  Building wheel for openfst-python (setup.py) ... \u001b[?25lerror\n",
            "\u001b[31m  ERROR: Failed building wheel for openfst-python\u001b[0m\n",
            "\u001b[?25h  Running setup.py clean for openfst-python\n",
            "Failed to build openfst-python\n",
            "Installing collected packages: openfst-python\n",
            "    Running setup.py install for openfst-python ... \u001b[?25l\u001b[?25herror\n",
            "\u001b[31mERROR: Command errored out with exit status 1: /usr/bin/python3 -u -c 'import io, os, sys, setuptools, tokenize; sys.argv[0] = '\"'\"'/tmp/pip-install-ofrql1og/openfst-python_b4ccfb3c3e294270aae890c7313cfe1f/setup.py'\"'\"'; __file__='\"'\"'/tmp/pip-install-ofrql1og/openfst-python_b4ccfb3c3e294270aae890c7313cfe1f/setup.py'\"'\"';f = getattr(tokenize, '\"'\"'open'\"'\"', open)(__file__) if os.path.exists(__file__) else io.StringIO('\"'\"'from setuptools import setup; setup()'\"'\"');code = f.read().replace('\"'\"'\\r\\n'\"'\"', '\"'\"'\\n'\"'\"');f.close();exec(compile(code, __file__, '\"'\"'exec'\"'\"'))' install --record /tmp/pip-record-vi5eic9z/install-record.txt --single-version-externally-managed --compile --install-headers /usr/local/include/python3.8/openfst-python Check the logs for full command output.\u001b[0m\n"
          ]
        }
      ]
    },
    {
      "cell_type": "code",
      "source": [
        "str_ = df_test['Doc'][16]"
      ],
      "metadata": {
        "id": "mcUtDI-TUGEW"
      },
      "execution_count": null,
      "outputs": []
    },
    {
      "cell_type": "code",
      "source": [
        "wnl = WordNetLemmatizer()\n",
        "list1 = word_tokenize(str_)\n",
        "for words in list1:\n",
        "    print(words + \" ---> \" + wnl.lemmatize(words))"
      ],
      "metadata": {
        "colab": {
          "base_uri": "https://localhost:8080/"
        },
        "id": "-Uu02_MagMgM",
        "outputId": "e8b2b254-917d-4e9a-fe80-f1efce1c004b"
      },
      "execution_count": null,
      "outputs": [
        {
          "output_type": "stream",
          "name": "stdout",
          "text": [
            "coming ---> coming\n",
            "off ---> off\n",
            "their ---> their\n",
            "nba ---> nba\n",
            "finals ---> final\n",
            "run ---> run\n",
            "in ---> in\n",
            "2021 ---> 2021\n",
            "the ---> the\n",
            "suns ---> sun\n",
            "were ---> were\n",
            "expected ---> expected\n",
            "to ---> to\n",
            "potentially ---> potentially\n",
            "get ---> get\n",
            "back ---> back\n",
            "there ---> there\n",
            "again ---> again\n",
            "in ---> in\n",
            "2022 ---> 2022\n",
            "but ---> but\n",
            "ultimately ---> ultimately\n",
            "flamed ---> flamed\n",
            "out ---> out\n",
            "against ---> against\n",
            "luka ---> luka\n",
            "doncic ---> doncic\n",
            "and ---> and\n",
            "the ---> the\n",
            "dallas ---> dallas\n",
            "mavericks ---> maverick\n",
            "in ---> in\n",
            "the ---> the\n",
            "second ---> second\n",
            "round ---> round\n",
            "it ---> it\n",
            "was ---> wa\n",
            "a ---> a\n",
            "painful ---> painful\n",
            "loss ---> loss\n",
            "for ---> for\n",
            "not ---> not\n",
            "only ---> only\n",
            "us ---> u\n",
            "suns ---> sun\n",
            "fans ---> fan\n",
            "but ---> but\n",
            "all ---> all\n",
            "nba ---> nba\n",
            "fans ---> fan\n",
            "as ---> a\n",
            "a ---> a\n",
            "suns ---> sun\n",
            "vs ---> v\n",
            "warriors ---> warrior\n",
            "series ---> series\n",
            "in ---> in\n",
            "the ---> the\n",
            "western ---> western\n",
            "conference ---> conference\n",
            "finals ---> final\n",
            "would ---> would\n",
            "have ---> have\n",
            "been ---> been\n",
            "immense ---> immense\n",
            "although ---> although\n",
            "the ---> the\n",
            "season ---> season\n",
            "did ---> did\n",
            "end ---> end\n",
            "on ---> on\n",
            "that ---> that\n",
            "sour ---> sour\n",
            "note ---> note\n",
            "it ---> it\n",
            "was ---> wa\n",
            "in ---> in\n",
            "fact ---> fact\n",
            "a ---> a\n",
            "historically ---> historically\n",
            "great ---> great\n",
            "season ---> season\n",
            "for ---> for\n",
            "phoenix ---> phoenix\n",
            "they ---> they\n",
            "were ---> were\n",
            "far ---> far\n",
            "and ---> and\n",
            "away ---> away\n",
            "the ---> the\n",
            "most ---> most\n",
            "consistent ---> consistent\n",
            "team ---> team\n",
            "all ---> all\n",
            "season ---> season\n",
            "boasting ---> boasting\n",
            "a ---> a\n",
            "top ---> top\n",
            "five ---> five\n",
            "offensive ---> offensive\n",
            "and ---> and\n",
            "defensive ---> defensive\n",
            "rating ---> rating\n",
            "this ---> this\n",
            "efficiency ---> efficiency\n",
            "helped ---> helped\n",
            "them ---> them\n",
            "win ---> win\n",
            "a ---> a\n",
            "franchise ---> franchise\n",
            "record ---> record\n",
            "64 ---> 64\n",
            "games ---> game\n",
            "leading ---> leading\n",
            "the ---> the\n",
            "nba ---> nba\n",
            "with ---> with\n",
            "the ---> the\n",
            "next ---> next\n",
            "closest ---> closest\n",
            "team ---> team\n",
            "being ---> being\n",
            "the ---> the\n",
            "grizzlies ---> grizzly\n",
            "with ---> with\n",
            "56 ---> 56\n",
            "wins ---> win\n"
          ]
        }
      ]
    },
    {
      "cell_type": "code",
      "source": [
        "ps = nltk.porter.PorterStemmer()\n",
        "list1 = str_.split()\n",
        "for words in list1:\n",
        "    print(words + \" ---> \" + ps.stem(words))"
      ],
      "metadata": {
        "id": "HCLIB2zseiEj"
      },
      "execution_count": null,
      "outputs": []
    }
  ]
}