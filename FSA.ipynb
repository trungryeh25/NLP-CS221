{
  "cells": [
    {
      "cell_type": "code",
      "execution_count": null,
      "metadata": {
        "colab": {
          "base_uri": "https://localhost:8080/"
        },
        "id": "CWO9ZpxWhzHY",
        "outputId": "228de4cd-28ce-42c1-e74b-994c475f84a1"
      },
      "outputs": [
        {
          "name": "stdout",
          "output_type": "stream",
          "text": [
            "Mounted at /content/C\n"
          ]
        }
      ],
      "source": [
        "from google.colab import drive\n",
        "\n",
        "drive.mount(\"/content/C\")"
      ]
    },
    {
      "cell_type": "code",
      "execution_count": null,
      "metadata": {
        "id": "xugHgUmAiDy_"
      },
      "outputs": [],
      "source": [
        "!ls /content/C/Shareddrives"
      ]
    },
    {
      "cell_type": "markdown",
      "metadata": {
        "id": "sTD2mXE66SLy"
      },
      "source": [
        "**REGULAR EXPRESSION**"
      ]
    },
    {
      "cell_type": "markdown",
      "metadata": {
        "id": "D15sY5Xl6YSS"
      },
      "source": [
        "Các hàm, đối tượng xử lý biểu thức\n",
        "chính được cài đặt quy trong python được đặt trong file re.py\n",
        "\n",
        "**Đối tượng pattern**\n",
        "\n",
        "Đối tượng pattern tương ứng với một biểu thức chính\n",
        "quy, dùng để nhận dạng những đoạn văn bản.\n",
        "\n",
        "p = re.compile(biểu_thức, cờ_hiệu)\n",
        "\n",
        "*Các dạng cờ hiệu:*\n",
        "\n",
        "-re.ASCII: các biểu thức w, W, … chỉ so sánh trên\n",
        "bảng mã ASCII thay vì trên bảng mã UNICODE.\n",
        "\n",
        "-re.MULTILINE: mỗi dòng được xem như là một\n",
        "đoạn text mới (khi xác định đầu ^ và cuối $ dòng)\n",
        "\n",
        "-re.DOTALL: ký hiệu “.” có thể khớp với tất cả ký tự,\n",
        "kể cả n.\n",
        "\n",
        "**Đối tượng match**\n",
        "\n",
        "Đối tượng match là kết quả của các thao tác so khớp\n",
        "trong biểu thức chính quy. Đối tượng match có giá trị\n",
        "boolean là True nếu tồn tại kết quả so khớp và False\n",
        "nếu không tồn tại.\n",
        "\n",
        "- match.expand(template): đặt kết quả so khớp vào\n",
        "mẫu template.\n",
        "\n",
        "- match.group(gr0, …) : kết quả so khớp theo group\n",
        "gr0, …\n",
        "\n",
        "- match.start(gr0): vị trí bắt đầu của kết quả so khớp\n",
        "\n",
        "- match.end(gr0): vị trí kết thúc của kết quả so khớp"
      ]
    },
    {
      "cell_type": "code",
      "execution_count": null,
      "metadata": {
        "id": "9PoyxVpA6h8_"
      },
      "outputs": [],
      "source": [
        "import re"
      ]
    },
    {
      "cell_type": "markdown",
      "metadata": {
        "id": "GpKQSHx_8SFm"
      },
      "source": [
        "**1) SO KHỚP**\n",
        "\n",
        "*pattern.match(text)*\n",
        "\n",
        "Tìm từ đầu đoạn text một dãy ký tự thỏa biểu thức\n",
        "chính quy trong đối tượng pattern.\n",
        "\n",
        "Trường hợp sử dụng nhanh:\n",
        "\n",
        "*match = re.match(reg_ex, text)*\n"
      ]
    },
    {
      "cell_type": "code",
      "execution_count": null,
      "metadata": {
        "colab": {
          "base_uri": "https://localhost:8080/"
        },
        "id": "54zQx3Wl9bs0",
        "outputId": "1c04f7e7-245a-4d08-c415-02c8c2af22c2"
      },
      "outputs": [
        {
          "name": "stdout",
          "output_type": "stream",
          "text": [
            "1000\n",
            "None\n"
          ]
        }
      ],
      "source": [
        "pattern = re.compile(\"\\d+\")\n",
        "match = pattern.match(\"1000 points\")\n",
        "if match != None:\n",
        "  print(match.group())\n",
        "else:\n",
        "  print(\"None\")\n",
        "match = pattern.match(\"I have 1000 points\") \n",
        "if match != None:\n",
        "  print(match.group())\n",
        "else:\n",
        "  print(\"None\")"
      ]
    },
    {
      "cell_type": "markdown",
      "metadata": {
        "id": "12fqYDalArjW"
      },
      "source": [
        "**1) TÌM KIẾM**\n",
        "\n",
        "*pattern.search(text)*\n",
        "\n",
        "Tìm trong đoạn text một dãy ký tự đầu tiên thỏa biểu\n",
        "thức chính quy của pattern.\n",
        "\n",
        "Trường hợp sử dụng nhanh:\n",
        "\n",
        "*match = re.search(reg_ex, text)*\n"
      ]
    },
    {
      "cell_type": "code",
      "execution_count": null,
      "metadata": {
        "colab": {
          "base_uri": "https://localhost:8080/"
        },
        "id": "CVig2IGFA53U",
        "outputId": "106cbad5-8763-4e3d-dc41-3851406b5fce"
      },
      "outputs": [
        {
          "name": "stdout",
          "output_type": "stream",
          "text": [
            "1000\n"
          ]
        }
      ],
      "source": [
        "pattern = re.compile(\"\\d+\")\n",
        "match = pattern.search(\"I have 1000 points\")\n",
        "if match != None:\n",
        "  print(match.group())\n",
        "else:\n",
        "  print(\"None\")"
      ]
    },
    {
      "cell_type": "markdown",
      "metadata": {
        "id": "4qxVkEQv5QUO"
      },
      "source": [
        "Trong trường hợp text có nhiều dòng thì so khớp\n",
        "và tìm kiếm khác nhau:"
      ]
    },
    {
      "cell_type": "code",
      "execution_count": null,
      "metadata": {
        "id": "kLdmAV-c5R4k"
      },
      "outputs": [],
      "source": [
        "p1 = re.compile(\"\\d+\", re.MULTILINE)\n",
        "p2 = re.compile(\"^\\d+\", re.MULTILINE)\n",
        "match = p1.match(\"I have\\n1000 points\")\n",
        "if match != None:\n",
        "  print(match.group())\n",
        "else:\n",
        "  print(\"None\")\n",
        "match = p2.search(\"I have\\n1000 points\")\n",
        "if match != None:\n",
        "  print(match.group())\n",
        "else:\n",
        "  print(\"None\")"
      ]
    },
    {
      "cell_type": "markdown",
      "metadata": {
        "id": "A5OOuDlF6C4n"
      },
      "source": [
        "Tìm tất cả chuỗi con thỏa biểu thức chính quy và trả\n",
        "về một danh sách các chuỗi con tìm được:\n",
        "\n",
        "*list = pattern.findall(text)*\n",
        "\n",
        "Trường hợp sử dụng nhanh\n",
        "\n",
        "*list = re.findall(reg_ex, text)*\n",
        "\n",
        "Tìm tất cả đối tượng match thỏa biểu thức chính quy.\n",
        "Các đối tượng này được duyệt bằng vòng lặp for:\n",
        "\n",
        "*matchList = pattern.finditer(text)*\n",
        "\n",
        "Trường hợp sử dụng nhanh\n",
        "\n",
        "*matchList = re.finditer(reg_ex, text)*\n",
        "\n",
        "**Lưu ý:**\n",
        "\n",
        "- Có thể tạo nhóm cho kết quả so khớp bằng cách\n",
        "dùng cặp dấu “(“ và “)”. Khi đó truy xuất nhóm bằng\n",
        "thứ tự xuất hiện của nhóm với tên g<i>\n",
        "\n",
        "- Có thể đặt tên cho nhóm bằng cách sử dụng cặp\n",
        "dấu: “(?P<name>” và “)”\n",
        "\n",
        "- re luôn tìm chuỗi dài nhất khi dùng các ký hiệu lặp.\n",
        "Trong trường hợp muốn tìm chuỗi ngắn nhất thì\n",
        "dùng thêm dấu ?. Ví dụ: “ d+?”\n",
        "\n",
        "**BÀI TẬP**\n",
        "\n",
        "Cho đoạn văn như bên dưới. Hãy:\n",
        "\n",
        "a) Xác định các cá nhân\n",
        "\n",
        "b) Xác định các thời điểm\n",
        "\n",
        "c) Xác định các thời lượng\n",
        "\n",
        "d) Xác định các địa điểm\n",
        "\n",
        "e) Xác định các tổ chức\n",
        "\n",
        "f) Tạo thông tin theo mẫu sau:\n",
        "\n",
        "- Bị cáo <TEN> năm nay <SOTUOI> tuổi\n",
        "\n",
        "- Ngân hàng <TEN> bị cướp <SOTIEN>"
      ]
    },
    {
      "cell_type": "code",
      "execution_count": null,
      "metadata": {
        "colab": {
          "base_uri": "https://localhost:8080/"
        },
        "id": "pZREvktA67yS",
        "outputId": "8a326583-a21c-4281-ea46-5b281c662147"
      },
      "outputs": [
        {
          "name": "stdout",
          "output_type": "stream",
          "text": [
            "\n",
            "Chủ nhật, 11/10/2020, 08:03 (GMT+7)\n",
            "Phùng Thị Thắng, 24 tuổi, quê Bắc Giang, từng tham gia nhiều gameshow hài trên truyền hình, khai cần tiền trả nợ nên đi cướp ngân\n",
            "hàng.\n",
            "Sáng 11/10, Thắng bị Công an TP HCM điều tra về hành vi Cướp tài sản và các dấu hiệu tội phạm khác.\n",
            "Trưa hôm qua, sau khi cướp 2,1 tỷ đồng của Ngân hàng Techcombank trên đường Trương Vĩnh Ký, quận Tân Phú, Thắng tẩu thoát khỏi hiện trường bằng taxi. Cô ta vào nhiều trung tâm thương mại ở quận Tân Phú, Tân Bình, thay quần áo, mũ và các phụ kiện khác, valy... để nguỵ trang xoá dấu vết, tránh sự truy bắt của cảnh sát. Tuy nhiên, sau 3 giờ gây án, Thắng bị Công an TP HCM phối hợp Cục Cảnh sát Hình sự (C02, Bộ Công an) bắt giữ.\n",
            "Tin tức được lấy từ website vnexpress.net, tác giả: Q.T\n",
            "\n"
          ]
        }
      ],
      "source": [
        "text = '''\n",
        "Chủ nhật, 11/10/2020, 08:03 (GMT+7)\n",
        "Phùng Thị Thắng, 24 tuổi, quê Bắc Giang, từng tham gia nhiều gameshow hài trên truyền hình, khai cần tiền trả nợ nên đi cướp ngân\n",
        "hàng.\n",
        "Sáng 11/10, Thắng bị Công an TP HCM điều tra về hành vi Cướp tài sản và các dấu hiệu tội phạm khác.\n",
        "Trưa hôm qua, sau khi cướp 2,1 tỷ đồng của Ngân hàng Techcombank trên đường Trương Vĩnh Ký, quận Tân Phú, Thắng tẩu thoát khỏi hiện trường bằng taxi. Cô ta vào nhiều trung tâm thương mại ở quận Tân Phú, Tân Bình, thay quần áo, mũ và các phụ kiện khác, valy... để nguỵ trang xoá dấu vết, tránh sự truy bắt của cảnh sát. Tuy nhiên, sau 3 giờ gây án, Thắng bị Công an TP HCM phối hợp Cục Cảnh sát Hình sự (C02, Bộ Công an) bắt giữ.\n",
        "Tin tức được lấy từ website vnexpress.net, tác giả: Q.T\n",
        "'''\n",
        "print(text)"
      ]
    },
    {
      "cell_type": "markdown",
      "metadata": {
        "id": "YuuXKm3e6CSS"
      },
      "source": [
        "**FINITE STATE AUTOMATON & FINITE STATE TRANDUCER**"
      ]
    },
    {
      "cell_type": "code",
      "execution_count": null,
      "metadata": {
        "colab": {
          "base_uri": "https://localhost:8080/"
        },
        "id": "znM4-fU5kvPK",
        "outputId": "bbaed54c-a02e-402c-b8c0-0dfea3d177cc"
      },
      "outputs": [
        {
          "name": "stdout",
          "output_type": "stream",
          "text": [
            "Looking in indexes: https://pypi.org/simple, https://us-python.pkg.dev/colab-wheels/public/simple/\n",
            "Collecting openfst-python\n",
            "  Downloading openfst_python-1.7.3-cp37-cp37m-manylinux1_x86_64.whl (15.0 MB)\n",
            "\u001b[K     |████████████████████████████████| 15.0 MB 25.0 MB/s \n",
            "\u001b[?25hInstalling collected packages: openfst-python\n",
            "Successfully installed openfst-python-1.7.3\n"
          ]
        }
      ],
      "source": [
        "!pip install openfst-python\n"
      ]
    },
    {
      "cell_type": "markdown",
      "metadata": {
        "id": "8xeD7E66dGHL"
      },
      "source": [
        "Khai báo sử dụng package openfst-python với tên fst\n",
        "Tạo đối tượng thuộc lớp Compiler để dịch thông tin mô tả một FSA thành một đối tượng FSA.\n",
        "Các tham số cần để tạo đối tượng Compiler gồm:\n",
        "- isymbols: một bảng các ký hiệu đầu vào. Bảng này là một đối tượng thuộc lớp SymbolTable.\n",
        "- osymbols: một bảng ký hiệu đầu ra. Bảng này là một đối tượng thuộc lớp SymbolTable và có thể trùng với bảng isymbols trong trường hợp tạo một FSA. Trong trường hợp tạo một FST, bảng isymbols và osymbols có thể khác nhau.\n",
        "- accepter (True/False): cho biết đối tượng được tạo là FSA (True) hay FST (False).\n",
        "- keep_isymbols (True/False): cho biết các ký hiệu đầu vào được thể hiện ngay trên kết quả kết xuất FSA ra file dot (True) hay không (False).\n",
        "- keep_osymbols (True/False): tương tự như keep_isymbols.\n",
        "\n",
        "Ví dụ: Tạo một DFA có hình dạng như sau:\n",
        "\n",
        "```\n",
        "     _a_\n",
        "    /   \\\n",
        "-->0     1--c-->2\n",
        "    \\_b_/\n",
        "\n",
        "```\n",
        "\n",
        "\n",
        "\n"
      ]
    },
    {
      "cell_type": "code",
      "execution_count": null,
      "metadata": {
        "id": "1yHMFgnWIEsQ"
      },
      "outputs": [],
      "source": [
        "import openfst_python as fst\n",
        "isym = fst.SymbolTable()\n",
        "isym.add_symbol('a', 1)\n",
        "isym.add_symbol('b', 2)\n",
        "isym.add_symbol('c', 3)\n",
        "compiler = fst.Compiler(isymbols=isym, osymbols=isym, acceptor=True, keep_isymbols=True, keep_osymbols=True)\n",
        "\n",
        "print(\"0 1 a\", file=compiler)\n",
        "print(\"0 1 b\", file=compiler)\n",
        "print(\"1 2 c\", file=compiler)\n",
        "print(\"2\", file=compiler)\n",
        "fsa = compiler.compile()\n",
        "fsa.draw(\"f.gv\", acceptor=True, portrait=True)\n",
        "\n"
      ]
    },
    {
      "cell_type": "markdown",
      "metadata": {
        "id": "zE2wd81Ah1dk"
      },
      "source": [
        "Dùng graphviz để chuyển từ kết quả kết xuất FSA từ openfst-python sang dạng file ảnh để xem"
      ]
    },
    {
      "cell_type": "code",
      "execution_count": null,
      "metadata": {
        "colab": {
          "base_uri": "https://localhost:8080/",
          "height": 86
        },
        "id": "esvdY581a9tx",
        "outputId": "373f69ce-a05d-4d82-acd7-d69c467a84bc"
      },
      "outputs": [
        {
          "data": {
            "image/png": "[encoded data removed]",
            "text/plain": [
              "<IPython.core.display.Image object>"
            ]
          },
          "metadata": {},
          "output_type": "display_data"
        }
      ],
      "source": [
        "from graphviz import Source\n",
        "from IPython.display import Image, display\n",
        "import graphviz\n",
        "\n",
        "gv = Source.from_file('f.gv')\n",
        "pngfile = gv.render(format='png')\n",
        "display(Image(pngfile))"
      ]
    },
    {
      "cell_type": "markdown",
      "metadata": {
        "id": "ZK0v0pBcjsPc"
      },
      "source": [
        "Để kiểm tra một chuỗi s có thỏa một FSA M hay không, chuyển chuỗi s thành một FSA tuyến tính S, sau đó kiểm tra kết quả tạo S từ M là một FSA R. Nếu R không có trạng thái nào, có nghĩa là s không thỏa M, ngược lại là s thỏa M.\n",
        "Ví dụ: kiểm tra chuỗi \"ac\" có thỏa FSA fsa ở trên hay không:\n",
        "- tạo một FSA s có dạng -->0--a-->1--c-->2\n",
        "- đặt r = fst.compose(s, fsa)\n",
        "- nếu số lượng trạng thái trong r lớn hơn 0 thì s thỏa fsa, ngược lại s không thỏa fsa"
      ]
    },
    {
      "cell_type": "code",
      "execution_count": null,
      "metadata": {
        "colab": {
          "base_uri": "https://localhost:8080/",
          "height": 207
        },
        "id": "Qfm8_5GRk2-R",
        "outputId": "51ef2598-f712-48fa-ad0d-03e004822178"
      },
      "outputs": [
        {
          "name": "stdout",
          "output_type": "stream",
          "text": [
            "the linear FSA of s\n"
          ]
        },
        {
          "data": {
            "image/png": "[encoded data removed]",
            "text/plain": [
              "<IPython.core.display.Image object>"
            ]
          },
          "metadata": {},
          "output_type": "display_data"
        },
        {
          "name": "stdout",
          "output_type": "stream",
          "text": [
            "the FSA of r\n"
          ]
        },
        {
          "data": {
            "image/png": "[encoded data removed]",
            "text/plain": [
              "<IPython.core.display.Image object>"
            ]
          },
          "metadata": {},
          "output_type": "display_data"
        },
        {
          "name": "stdout",
          "output_type": "stream",
          "text": [
            "True\n"
          ]
        }
      ],
      "source": [
        "compiler = fst.Compiler(isymbols=isym, osymbols=isym, acceptor=True, keep_isymbols=True, keep_osymbols=True)\n",
        "\n",
        "print(\"0 1 a\", file=compiler)\n",
        "print(\"1 2 c\", file=compiler)\n",
        "print(\"2\", file=compiler)\n",
        "s = compiler.compile()\n",
        "\n",
        "print(\"the linear FSA of s\")\n",
        "s.draw(\"s.gv\", acceptor=True, portrait=True)\n",
        "gv = Source.from_file('s.gv')\n",
        "pngfile = gv.render(format='png')\n",
        "display(Image(pngfile))\n",
        "\n",
        "r = fst.compose(s, fsa)\n",
        "if r.num_states() > 0:\n",
        "  print(\"the FSA of r\")\n",
        "  r.draw(\"r.gv\", acceptor=True, portrait=True)\n",
        "  gv = Source.from_file('r.gv')\n",
        "  pngfile = gv.render(format='png')\n",
        "  display(Image(pngfile))\n",
        "\n",
        "print(r.num_states() > 0)"
      ]
    },
    {
      "cell_type": "markdown",
      "metadata": {
        "id": "TFvxhLslmzCr"
      },
      "source": [
        "Ví dụ: Tạo các FST để phân tích hình thái của các từ\n",
        "\n",
        "caps --> cap +N +PL\n",
        "\n",
        "cat --> cat +N +SG\n",
        "\n",
        "child --> child +N +SG\n",
        "\n",
        "children --> child +N +PL"
      ]
    },
    {
      "cell_type": "code",
      "execution_count": null,
      "metadata": {
        "colab": {
          "base_uri": "https://localhost:8080/",
          "height": 263
        },
        "id": "dFkSVBVDnTW_",
        "outputId": "bd2a580f-e2ea-41cd-b119-ae228f588b7b"
      },
      "outputs": [
        {
          "data": {
            "image/png": "[encoded data removed]",
            "text/plain": [
              "<IPython.core.display.Image object>"
            ]
          },
          "metadata": {},
          "output_type": "display_data"
        },
        {
          "data": {
            "image/png": "[encoded data removed]",
            "text/plain": [
              "<IPython.core.display.Image object>"
            ]
          },
          "metadata": {},
          "output_type": "display_data"
        },
        {
          "data": {
            "image/png": "[encoded data removed]",
            "text/plain": [
              "<IPython.core.display.Image object>"
            ]
          },
          "metadata": {},
          "output_type": "display_data"
        },
        {
          "data": {
            "image/png": "[encoded data removed]",
            "text/plain": [
              "<IPython.core.display.Image object>"
            ]
          },
          "metadata": {},
          "output_type": "display_data"
        }
      ],
      "source": [
        "isym = fst.SymbolTable()\n",
        "isym.add_symbol('#', 0)\n",
        "isym.add_symbol('a', 1)\n",
        "isym.add_symbol('b', 2)\n",
        "isym.add_symbol('c', 3)\n",
        "isym.add_symbol('d', 4)\n",
        "isym.add_symbol('e', 5)\n",
        "isym.add_symbol('h', 6)\n",
        "isym.add_symbol('i', 7)\n",
        "isym.add_symbol('l', 8)\n",
        "isym.add_symbol('n', 9)\n",
        "isym.add_symbol('p', 10)\n",
        "isym.add_symbol('r', 11)\n",
        "isym.add_symbol('s', 12)\n",
        "isym.add_symbol('t', 13)\n",
        "\n",
        "osym = fst.SymbolTable()\n",
        "osym.add_symbol('#', 0)\n",
        "osym.add_symbol('a', 1)\n",
        "osym.add_symbol('b', 2)\n",
        "osym.add_symbol('c', 3)\n",
        "osym.add_symbol('d', 4)\n",
        "osym.add_symbol('e', 5)\n",
        "osym.add_symbol('h', 6)\n",
        "osym.add_symbol('i', 7)\n",
        "osym.add_symbol('l', 8)\n",
        "osym.add_symbol('n', 9)\n",
        "osym.add_symbol('p', 10)\n",
        "osym.add_symbol('r', 11)\n",
        "osym.add_symbol('s', 12)\n",
        "osym.add_symbol('t', 13)\n",
        "osym.add_symbol('+N', 14)\n",
        "osym.add_symbol('+SG', 15)\n",
        "osym.add_symbol('+PL', 16)\n",
        "\n",
        "compiler = fst.Compiler(isymbols=isym, osymbols=osym, acceptor=False, keep_isymbols=True, keep_osymbols=True)\n",
        "\n",
        "print(\"0 1 c c\", file=compiler)\n",
        "print(\"1 2 a a\", file=compiler)\n",
        "print(\"2 3 p p\", file=compiler)\n",
        "print(\"3 4 # +N\", file=compiler)\n",
        "print(\"4 5 s +PL\", file=compiler)\n",
        "print(\"5\", file=compiler)\n",
        "caps = compiler.compile()\n",
        "caps.draw(\"caps.gv\", acceptor=True, portrait=True)\n",
        "caps.draw(\"caps.gv\", acceptor=True, portrait=True)\n",
        "gv = Source.from_file('caps.gv')\n",
        "pngfile = gv.render(format='png')\n",
        "display(Image(pngfile))\n",
        "\n",
        "compiler = fst.Compiler(isymbols=isym, osymbols=osym, acceptor=False, keep_isymbols=True, keep_osymbols=True)\n",
        "\n",
        "print(\"0 1 c c\", file=compiler)\n",
        "print(\"1 2 a a\", file=compiler)\n",
        "print(\"2 3 t t\", file=compiler)\n",
        "print(\"3 4 # +N\", file=compiler)\n",
        "print(\"4 5 # +SG\", file=compiler)\n",
        "print(\"5\", file=compiler)\n",
        "cat = compiler.compile()\n",
        "cat.draw(\"cat.gv\", acceptor=True, portrait=True)\n",
        "cat.draw(\"cat.gv\", acceptor=True, portrait=True)\n",
        "gv = Source.from_file('cat.gv')\n",
        "pngfile = gv.render(format='png')\n",
        "display(Image(pngfile))\n",
        "\n",
        "compiler = fst.Compiler(isymbols=isym, osymbols=osym, acceptor=False, keep_isymbols=True, keep_osymbols=True)\n",
        "\n",
        "print(\"0 1 c c\", file=compiler)\n",
        "print(\"1 2 h h\", file=compiler)\n",
        "print(\"2 3 i i\", file=compiler)\n",
        "print(\"3 4 l l\", file=compiler)\n",
        "print(\"4 5 d d\", file=compiler)\n",
        "print(\"5 6 # +N\", file=compiler)\n",
        "print(\"6 7 # +SG\", file=compiler)\n",
        "print(\"7\", file=compiler)\n",
        "child = compiler.compile()\n",
        "child.draw(\"child.gv\", acceptor=True, portrait=True)\n",
        "child.draw(\"child.gv\", acceptor=True, portrait=True)\n",
        "gv = Source.from_file('child.gv')\n",
        "pngfile = gv.render(format='png')\n",
        "display(Image(pngfile))\n",
        "\n",
        "compiler = fst.Compiler(isymbols=isym, osymbols=osym, acceptor=False, keep_isymbols=True, keep_osymbols=True)\n",
        "\n",
        "print(\"0 1 c c\", file=compiler)\n",
        "print(\"1 2 h h\", file=compiler)\n",
        "print(\"2 3 i i\", file=compiler)\n",
        "print(\"3 4 l l\", file=compiler)\n",
        "print(\"4 5 d d\", file=compiler)\n",
        "print(\"5 6 r #\", file=compiler)\n",
        "print(\"6 7 e +N\", file=compiler)\n",
        "print(\"7 8 n +PL\", file=compiler)\n",
        "print(\"8\", file=compiler)\n",
        "children = compiler.compile()\n",
        "children.draw(\"children.gv\", acceptor=True, portrait=True)\n",
        "children.draw(\"children.gv\", acceptor=True, portrait=True)\n",
        "gv = Source.from_file('children.gv')\n",
        "pngfile = gv.render(format='png')\n",
        "display(Image(pngfile))\n"
      ]
    },
    {
      "cell_type": "code",
      "execution_count": null,
      "metadata": {
        "colab": {
          "base_uri": "https://localhost:8080/"
        },
        "id": "YS0VDap9hOWe",
        "outputId": "61bd4d92-028d-45bd-d4dd-7412a7a224a1"
      },
      "outputs": [
        {
          "name": "stdout",
          "output_type": "stream",
          "text": [
            "C\t     cat.gv\t child.gv.png\t  f.gv\t    r.gv.png\t s.gv.png\n",
            "caps.gv      cat.gv.png  children.gv\t  f.gv.png  sample_data\n",
            "caps.gv.png  child.gv\t children.gv.png  r.gv\t    s.gv\n"
          ]
        }
      ],
      "source": [
        "!ls "
      ]
    }
  ],
  "metadata": {
    "colab": {
      "collapsed_sections": [],
      "provenance": []
    },
    "kernelspec": {
      "display_name": "Python 3.9.13 64-bit (microsoft store)",
      "language": "python",
      "name": "python3"
    },
    "language_info": {
      "name": "python",
      "version": "3.9.13 (tags/v3.9.13:6de2ca5, May 17 2022, 16:36:42) [MSC v.1929 64 bit (AMD64)]"
    },
    "vscode": {
      "interpreter": {
        "hash": "e584bf9341a62b8a3da68642bc9f7bba01f22f5f3f07d96326eb029e48e4c97a"
      }
    }
  },
  "nbformat": 4,
  "nbformat_minor": 0
}
